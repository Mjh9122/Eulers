{
 "cells": [
  {
   "cell_type": "code",
   "execution_count": 4,
   "metadata": {},
   "outputs": [
    {
     "name": "stdout",
     "output_type": "stream",
     "text": [
      "0\n"
     ]
    }
   ],
   "source": [
    "import math\n",
    "\n",
    "class triangle:\n",
    "    def __init__(self, x1, y1, x2, y2, x3, y3):\n",
    "        self.x1 = x1\n",
    "        self.x2 = x2\n",
    "        self.x3 = x3\n",
    "        self.y1 = y1\n",
    "        self.y2 = y2\n",
    "        self.y3 = y3\n",
    "\n",
    "    def contains_p(self, px, py):\n",
    "        contains = True\n",
    "        def ((self.y2-self.y1)/(self.x2-self.x1))*(x - self.x1) + self.y1\n",
    "\n",
    "\n",
    "with open('trix.txt') as file:\n",
    "    lines = file.read().splitlines()\n",
    "\n",
    "count = 0\n",
    "not_same_side = []\n",
    "\n",
    "for line in lines:\n",
    "    x1, y1, x2, y2, x3, y3 = [int(i) for i in line.split(',')]\n",
    "    if x1 > 0 and x2 > 0 and x3 > 0:\n",
    "        continue\n",
    "    elif x1 < 0 and x2 < 0 and x3 < 0:\n",
    "        continue\n",
    "    elif y1 > 0 and y2 > 0 and y3 > 0:\n",
    "        continue\n",
    "    elif y1 < 0 and y2 < 0 and y3 < 0:\n",
    "        continue\n",
    "    \n",
    "    \n",
    "\n",
    "print(count)"
   ]
  },
  {
   "cell_type": "code",
   "execution_count": null,
   "metadata": {},
   "outputs": [],
   "source": []
  }
 ],
 "metadata": {
  "kernelspec": {
   "display_name": "Python 3.8.13 ('base')",
   "language": "python",
   "name": "python3"
  },
  "language_info": {
   "codemirror_mode": {
    "name": "ipython",
    "version": 3
   },
   "file_extension": ".py",
   "mimetype": "text/x-python",
   "name": "python",
   "nbconvert_exporter": "python",
   "pygments_lexer": "ipython3",
   "version": "3.8.13"
  },
  "orig_nbformat": 4,
  "vscode": {
   "interpreter": {
    "hash": "fae59a625726de57ea11942daf004c0cff3309baca2ca4d563b6f9a07959135e"
   }
  }
 },
 "nbformat": 4,
 "nbformat_minor": 2
}
