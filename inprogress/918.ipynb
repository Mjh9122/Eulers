{
 "cells": [
  {
   "cell_type": "code",
   "execution_count": 26,
   "metadata": {},
   "outputs": [],
   "source": [
    "import numpy as np\n",
    "import matplotlib.pyplot as plt\n",
    "\n",
    "from tqdm import tqdm"
   ]
  },
  {
   "cell_type": "code",
   "execution_count": 27,
   "metadata": {},
   "outputs": [
    {
     "name": "stderr",
     "output_type": "stream",
     "text": [
      "100%|██████████| 499999998/499999998 [03:01<00:00, 2755386.03it/s]\n"
     ]
    }
   ],
   "source": [
    "a = np.zeros(500_000_000)\n",
    "a[1] = 1\n",
    "\n",
    "for i in tqdm(range(2, 500_000_000)):\n",
    "    if i % 2:\n",
    "        a[i] = a[i//2] - 3 * a[i//2 + 1]\n",
    "    else:\n",
    "        a[i] = 2 * a[i//2]"
   ]
  },
  {
   "cell_type": "code",
   "execution_count": 28,
   "metadata": {},
   "outputs": [
    {
     "data": {
      "text/plain": [
       "np.float64(-3417496754065.0)"
      ]
     },
     "execution_count": 28,
     "metadata": {},
     "output_type": "execute_result"
    }
   ],
   "source": [
    "n = 2 * 5**12\n",
    "x = a[:2 * (5**12)+1].sum()\n",
    "\n",
    "x"
   ]
  },
  {
   "cell_type": "code",
   "execution_count": 29,
   "metadata": {},
   "outputs": [
    {
     "name": "stdout",
     "output_type": "stream",
     "text": [
      "488281250 -3417496754065.0\n",
      "976562500 -6834993508134.0\n",
      "1953125000 -13669987016272.0\n",
      "3906250000 -27339974032548.0\n",
      "7812500000 -54679948065100.0\n",
      "15625000000 -109359896130204.0\n",
      "31250000000 -218719792260412.0\n",
      "62500000000 -437439584520828.0\n",
      "125000000000 -874879169041660.0\n",
      "250000000000 -1749758338083324.0\n",
      "500000000000 -3499516676166652.0\n",
      "1000000000000 -6999033352333308.0\n"
     ]
    }
   ],
   "source": [
    "for i in range(12):\n",
    "    print(n, x)\n",
    "    n *= 2\n",
    "    x = 2 * (x - 2)"
   ]
  }
 ],
 "metadata": {
  "kernelspec": {
   "display_name": "euler",
   "language": "python",
   "name": "python3"
  },
  "language_info": {
   "codemirror_mode": {
    "name": "ipython",
    "version": 3
   },
   "file_extension": ".py",
   "mimetype": "text/x-python",
   "name": "python",
   "nbconvert_exporter": "python",
   "pygments_lexer": "ipython3",
   "version": "3.12.9"
  }
 },
 "nbformat": 4,
 "nbformat_minor": 2
}
