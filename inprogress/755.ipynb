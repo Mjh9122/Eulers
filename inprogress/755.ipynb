{
 "cells": [
  {
   "cell_type": "code",
   "execution_count": 1,
   "metadata": {},
   "outputs": [],
   "source": [
    "import math\n",
    "import numpy as np\n",
    "from tqdm import tqdm"
   ]
  },
  {
   "cell_type": "code",
   "execution_count": 2,
   "metadata": {},
   "outputs": [
    {
     "name": "stdout",
     "output_type": "stream",
     "text": [
      "1\n",
      "[1, 2, 3, 5, 8, 13, 21, 34, 55, 89, 144, 233, 377, 610, 987, 1597, 2584, 4181, 6765, 10946, 17711, 28657, 46368, 75025, 121393, 196418, 317811, 514229, 832040, 1346269, 2178309, 3524578, 5702887, 9227465, 14930352, 24157817, 39088169, 63245986, 102334155, 165580141, 267914296, 433494437, 701408733, 1134903170, 1836311903, 2971215073, 4807526976, 7778742049, 12586269025, 20365011074, 32951280099, 53316291173, 86267571272, 139583862445, 225851433717, 365435296162, 591286729879, 956722026041, 1548008755920, 2504730781961, 4052739537881, 6557470319842]\n"
     ]
    }
   ],
   "source": [
    "upper = 10 ** 13\n",
    "def fibs_up_to(n):\n",
    "    fibs = [1, 2]\n",
    "    while (next := fibs[-1] + fibs[-2]) <= n:\n",
    "        fibs.append(next)\n",
    "    return fibs\n",
    "\n",
    "fibs = fibs_up_to(upper)\n",
    "\n",
    "sums = {0: 1}\n",
    "\n",
    "# for fib in tqdm(fibs):\n",
    "#     temp_sums = sums.copy()\n",
    "#     for s, t in temp_sums.items():\n",
    "#         if (new_sum := s + fib) in sums:\n",
    "#             if new_sum <= upper:\n",
    "#                 sums[new_sum] += t\n",
    "#         else:\n",
    "#             if new_sum <= upper:\n",
    "#                 sums[new_sum] = t\n",
    "\n",
    "print(sum(sums.values()))\n",
    "print(fibs)\n"
   ]
  },
  {
   "cell_type": "code",
   "execution_count": null,
   "metadata": {},
   "outputs": [],
   "source": []
  }
 ],
 "metadata": {
  "kernelspec": {
   "display_name": "Python 3",
   "language": "python",
   "name": "python3"
  },
  "language_info": {
   "codemirror_mode": {
    "name": "ipython",
    "version": 3
   },
   "file_extension": ".py",
   "mimetype": "text/x-python",
   "name": "python",
   "nbconvert_exporter": "python",
   "pygments_lexer": "ipython3",
   "version": "3.11.1"
  },
  "orig_nbformat": 4,
  "vscode": {
   "interpreter": {
    "hash": "738da42b23c692d1c0a83c92c7da0fdf56c5882ea3bab9da5bfc0d2488af50c1"
   }
  }
 },
 "nbformat": 4,
 "nbformat_minor": 2
}
