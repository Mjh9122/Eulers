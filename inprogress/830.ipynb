{
 "cells": [
  {
   "cell_type": "code",
   "execution_count": 25,
   "metadata": {},
   "outputs": [],
   "source": [
    "import numpy as np\n",
    "import math\n",
    "\n",
    "from tqdm import tqdm\n",
    "from primefac import primefac"
   ]
  },
  {
   "cell_type": "code",
   "execution_count": 26,
   "metadata": {},
   "outputs": [],
   "source": [
    "def naive_sol(n):\n",
    "    sum = 0\n",
    "    for k in tqdm(range(n//2 + 1)):\n",
    "        com = math.comb(n, k)\n",
    "        if k != n - k:\n",
    "            new_term = com * ((k ** n) + ((n - k) ** n))\n",
    "        else:\n",
    "            new_term = com * (k ** n)\n",
    "        sum += new_term % (83 ** 3 * 89 ** 3 * 97 ** 3)\n",
    "    return sum % (83 ** 3 * 89 ** 3 * 97 ** 3)\n"
   ]
  },
  {
   "cell_type": "code",
   "execution_count": 27,
   "metadata": {},
   "outputs": [
    {
     "name": "stderr",
     "output_type": "stream",
     "text": [
      "100%|██████████| 2501/2501 [00:06<00:00, 369.62it/s]\n"
     ]
    },
    {
     "data": {
      "text/plain": [
       "116740625867666761"
      ]
     },
     "execution_count": 27,
     "metadata": {},
     "output_type": "execute_result"
    }
   ],
   "source": [
    "naive_sol(5000)"
   ]
  },
  {
   "cell_type": "code",
   "execution_count": null,
   "metadata": {},
   "outputs": [],
   "source": []
  }
 ],
 "metadata": {
  "kernelspec": {
   "display_name": "Python 3",
   "language": "python",
   "name": "python3"
  },
  "language_info": {
   "codemirror_mode": {
    "name": "ipython",
    "version": 3
   },
   "file_extension": ".py",
   "mimetype": "text/x-python",
   "name": "python",
   "nbconvert_exporter": "python",
   "pygments_lexer": "ipython3",
   "version": "3.11.1"
  },
  "orig_nbformat": 4,
  "vscode": {
   "interpreter": {
    "hash": "738da42b23c692d1c0a83c92c7da0fdf56c5882ea3bab9da5bfc0d2488af50c1"
   }
  }
 },
 "nbformat": 4,
 "nbformat_minor": 2
}
