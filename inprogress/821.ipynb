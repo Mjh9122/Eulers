{
 "cells": [
  {
   "cell_type": "code",
   "execution_count": 16,
   "metadata": {},
   "outputs": [],
   "source": [
    "import math\n",
    "import numpy as np\n",
    "import primefac\n",
    "from collections import Counter"
   ]
  },
  {
   "cell_type": "code",
   "execution_count": 12,
   "metadata": {},
   "outputs": [],
   "source": [
    "file = open('primes.txt', 'r')\n",
    "primes = file.readlines()[0].split(' ')\n",
    "for i, j in enumerate(primes):\n",
    "    primes[i] = int(j)\n"
   ]
  },
  {
   "cell_type": "code",
   "execution_count": 13,
   "metadata": {},
   "outputs": [],
   "source": [
    "def seperable(n):\n",
    "    used, counter, cc = set(), 1, 0\n",
    "    while counter <= n:\n",
    "        if counter in used or 2 * counter in used or 3 * counter in used:\n",
    "            counter += 1\n",
    "            continue\n",
    "        used.add(counter)\n",
    "        used.add(counter*2)\n",
    "        used.add(counter*3)\n",
    "        counter += 1\n",
    "    return used"
   ]
  },
  {
   "cell_type": "code",
   "execution_count": 14,
   "metadata": {},
   "outputs": [
    {
     "name": "stdout",
     "output_type": "stream",
     "text": [
      "[]\n"
     ]
    }
   ],
   "source": [
    "missing = sorted(seperable(10000))\n",
    "primefacs = [list(primefac.primefac(n)) for n in missing]\n",
    "outliers = []\n",
    "for factors in primefacs:\n",
    "    counts = Counter(factors)\n",
    "    count_2 = counts[2]\n",
    "    count_3 = counts[3]\n",
    "    if (count_2 % 2 == 1 ) and (count_3 % 2 == 1):\n",
    "        outliers.append(factors)\n",
    "        primefacs.remove(factors)\n",
    "print(outliers)\n"
   ]
  },
  {
   "cell_type": "code",
   "execution_count": 45,
   "metadata": {},
   "outputs": [
    {
     "name": "stdout",
     "output_type": "stream",
     "text": [
      "9166666667\n",
      "9166666666.666666\n",
      "0.33333396911621094\n"
     ]
    }
   ],
   "source": [
    "count = 0 \n",
    "limit = 1_000_000_000_0\n",
    "for n in range(1, limit//6):\n",
    "    temp = n\n",
    "    count_2 = 0 \n",
    "    count_3 = 0\n",
    "    while True:\n",
    "        new = temp/2\n",
    "        if new == int(new):\n",
    "            count_2 += 1\n",
    "            temp = new\n",
    "        else:\n",
    "            break\n",
    "    if count_2 % 2:\n",
    "        continue\n",
    "    while True:\n",
    "        new = temp/3\n",
    "        if new == int(new):\n",
    "            count_3 += 1\n",
    "            temp = new\n",
    "        else:\n",
    "            break\n",
    "    if count_3 % 2:\n",
    "        continue\n",
    "    count += 1\n",
    "print(limit-count)\n",
    "print(limit*11/12)\n",
    "print(limit-count-limit*11/12)\n"
   ]
  },
  {
   "cell_type": "code",
   "execution_count": 44,
   "metadata": {},
   "outputs": [
    {
     "data": {
      "text/plain": [
       "9166666666666666.0"
      ]
     },
     "execution_count": 44,
     "metadata": {},
     "output_type": "execute_result"
    }
   ],
   "source": [
    "10**16 * 11/12"
   ]
  }
 ],
 "metadata": {
  "kernelspec": {
   "display_name": "Python 3",
   "language": "python",
   "name": "python3"
  },
  "language_info": {
   "codemirror_mode": {
    "name": "ipython",
    "version": 3
   },
   "file_extension": ".py",
   "mimetype": "text/x-python",
   "name": "python",
   "nbconvert_exporter": "python",
   "pygments_lexer": "ipython3",
   "version": "3.11.1 (tags/v3.11.1:a7a450f, Dec  6 2022, 19:58:39) [MSC v.1934 64 bit (AMD64)]"
  },
  "orig_nbformat": 4,
  "vscode": {
   "interpreter": {
    "hash": "738da42b23c692d1c0a83c92c7da0fdf56c5882ea3bab9da5bfc0d2488af50c1"
   }
  }
 },
 "nbformat": 4,
 "nbformat_minor": 2
}
