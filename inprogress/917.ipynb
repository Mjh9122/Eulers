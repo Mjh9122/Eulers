{
 "cells": [
  {
   "cell_type": "code",
   "execution_count": 92,
   "metadata": {},
   "outputs": [],
   "source": [
    "import numpy as np\n",
    "from tqdm import tqdm\n",
    "\n",
    "import networkx as nx\n",
    "import pandas as pd\n"
   ]
  },
  {
   "cell_type": "code",
   "execution_count": 93,
   "metadata": {},
   "outputs": [
    {
     "name": "stderr",
     "output_type": "stream",
     "text": [
      "100%|██████████| 19999999/19999999 [00:06<00:00, 3081737.75it/s]\n"
     ]
    },
    {
     "data": {
      "text/plain": [
       "array([102022661, 864751430, 661600260, 328965239, 239894592, 387052877,\n",
       "       504582498, 717196187, 703150034, 193010287])"
      ]
     },
     "execution_count": 93,
     "metadata": {},
     "output_type": "execute_result"
    }
   ],
   "source": [
    "SHAPE = 10 ** 7\n",
    "\n",
    "s = np.zeros(2 * SHAPE, dtype=int)\n",
    "s[0] = 102022661\n",
    "\n",
    "for i in tqdm(range(1, 2 * SHAPE)):\n",
    "    s[i] = (s[i - 1] ** 2) % 998_388_889\n",
    "\n",
    "s[:10]"
   ]
  },
  {
   "cell_type": "code",
   "execution_count": null,
   "metadata": {},
   "outputs": [],
   "source": [
    "x, y = 29567, 33767"
   ]
  },
  {
   "cell_type": "code",
   "execution_count": 111,
   "metadata": {},
   "outputs": [],
   "source": [
    "x_ser = s.__mod__(x)\n",
    "y_ser = s.__mod__(y)"
   ]
  },
  {
   "cell_type": "code",
   "execution_count": 112,
   "metadata": {},
   "outputs": [
    {
     "name": "stdout",
     "output_type": "stream",
     "text": [
      "(array([       2,        6,       12, ..., 19999981, 19999991, 19999994],\n",
      "      shape=(2222033,)),)\n"
     ]
    }
   ],
   "source": [
    "print(np.where(x_ser == 0))"
   ]
  },
  {
   "cell_type": "code",
   "execution_count": 113,
   "metadata": {},
   "outputs": [
    {
     "name": "stdout",
     "output_type": "stream",
     "text": [
      "(array([       2,        6,       12, ..., 19999981, 19999991, 19999994],\n",
      "      shape=(2222033,)),)\n"
     ]
    }
   ],
   "source": [
    "print(np.where(y_ser == 0))"
   ]
  },
  {
   "cell_type": "code",
   "execution_count": null,
   "metadata": {},
   "outputs": [
    {
     "data": {
      "text/plain": [
       "array([102022661, 661600260, 239894592, 504582498, 703150034, 411120915,\n",
       "       342661968, 434148505, 288426578, 405915867, 422645272, 671266310,\n",
       "       189963795, 634401362, 594438663, 584139584, 620414078, 309538314,\n",
       "       234605808, 795062132, 841148860, 319498390, 497335273, 635393015,\n",
       "       477237222, 477599468, 537704352, 624379838, 305883387, 366268663,\n",
       "       297920534, 376635308, 423794513, 601475391, 805985826, 251655582,\n",
       "       135669659, 783743665, 206159982, 546857372, 741107201, 323393108,\n",
       "       646109054, 910175745, 422721247, 774883101, 860518725, 812895607,\n",
       "       340592176, 615056156])"
      ]
     },
     "execution_count": 115,
     "metadata": {},
     "output_type": "execute_result"
    }
   ],
   "source": [
    "a = s[::2]\n",
    "b = s[1::2]\n"
   ]
  },
  {
   "cell_type": "code",
   "execution_count": null,
   "metadata": {},
   "outputs": [
    {
     "name": "stdout",
     "output_type": "stream",
     "text": [
      "(array([2]),)\n"
     ]
    }
   ],
   "source": [
    "print(np.where(s == ))"
   ]
  },
  {
   "cell_type": "code",
   "execution_count": 96,
   "metadata": {},
   "outputs": [
    {
     "data": {
      "text/plain": [
       "array([864751430, 328965239, 387052877, 717196187, 193010287, 816293541,\n",
       "       763287835, 563647349, 327254069, 495246847])"
      ]
     },
     "execution_count": 96,
     "metadata": {},
     "output_type": "execute_result"
    }
   ],
   "source": [
    "b[:10]"
   ]
  },
  {
   "cell_type": "code",
   "execution_count": 97,
   "metadata": {},
   "outputs": [
    {
     "name": "stdout",
     "output_type": "stream",
     "text": [
      "24 44\n",
      "7116104 1651973\n",
      "10002712564707759\n"
     ]
    }
   ],
   "source": [
    "print(min(a), min(b))\n",
    "print(np.argmin(a), np.argmin(b))\n",
    "print(np.sum(a) + np.sum(b) + (SHAPE * min((np.argmin(a), np.argmin(b)))))"
   ]
  },
  {
   "cell_type": "code",
   "execution_count": 110,
   "metadata": {},
   "outputs": [
    {
     "data": {
      "text/plain": [
       "(np.int64(102022661),\n",
       " np.int64(85618108),\n",
       " np.int64(871224584),\n",
       " np.int64(316790843),\n",
       " np.int64(716361357))"
      ]
     },
     "execution_count": 110,
     "metadata": {},
     "output_type": "execute_result"
    }
   ],
   "source": [
    "a[0], a[29567], a[33767], a[2 * 29567], a[2 * 33767]"
   ]
  },
  {
   "cell_type": "code",
   "execution_count": 98,
   "metadata": {},
   "outputs": [],
   "source": [
    "def board_vis(a, b, digits_displayed = 2):\n",
    "    combined = a[:, None] + b\n",
    "    digs = int(np.log10(np.max(combined)))\n",
    "\n",
    "    print(combined[0, :9].sum() + combined[1:, 8].sum() + combined[9, 9])\n",
    "    combined//=(10 ** (digs - digits_displayed))\n",
    "\n",
    "    print(pd.DataFrame(combined).to_string(index = False, header= False))\n",
    "    return combined\n",
    "\n",
    "#_ = board_vis(a, b, 3)"
   ]
  },
  {
   "cell_type": "code",
   "execution_count": 99,
   "metadata": {},
   "outputs": [],
   "source": [
    "# splits = [((0, SHAPE), (0, SHAPE))]\n",
    "# one_wide_splits = []\n",
    "\n",
    "# while len(splits):\n",
    "#     (a_low, a_high), (b_low, b_high) = splits[0]\n",
    "#     #print('Initial Indicies:\\n', (int(a_low), int(a_high)), (int(b_low), int(b_high)))\n",
    "#     #print('One wide splits:\\n', one_wide_splits)\n",
    "#     #print('Splits:\\n', splits)\n",
    "#     #print()\n",
    "\n",
    "\n",
    "#     a_local, b_local = a[a_low:a_high + 1], b[b_low:b_high + 1]\n",
    "    \n",
    "#     if (0, 0) == (a_local.argmin(), b_local.argmin()):\n",
    "#         if a_high - a_low == 1 and b_high - b_low == 1:\n",
    "#             second_a = a_local[1] + b_local[0]\n",
    "#             second_b = a_local[0] + b_local[1]\n",
    "#         elif a_high - a_low == 1:\n",
    "#             second_a = a_local[1] + b_local[0]\n",
    "#             second_b = a_local.min() + b_local[1:].min()\n",
    "#         elif  b_high - b_low == 1:\n",
    "#             second_a = a_local[1:].min() + b_local.min()\n",
    "#             second_b = a_local[0] + b_local[1]\n",
    "#         else:\n",
    "#             second_a = a_local[1:].min() + b_local.min()\n",
    "#             second_b = a_local.min() + b_local[1:].min()\n",
    "\n",
    "#         if second_a < second_b:\n",
    "#             a_min, b_min = a_low + 1 + np.argmin(a_local[1:]), b_low\n",
    "#         else:\n",
    "#             a_min, b_min = a_low, b_low + 1 + np.argmin(b_local[1:])\n",
    "#     else:\n",
    "#         a_min, b_min = a_local.argmin() + a_low, b_local.argmin() + b_low\n",
    "    \n",
    "#     splits = splits[1:]\n",
    "\n",
    "#     if a_low == a_min :\n",
    "#         one_wide_splits.append(((a_low, a_min), (b_low, b_min - 1)))\n",
    "#     elif b_low == b_min:\n",
    "#         one_wide_splits.append(((a_low, a_min - 1), (b_low, b_min)))\n",
    "#     else:\n",
    "#         splits.append(((a_low, a_min), (b_low, b_min)))\n",
    "\n",
    "#     if a_high == a_min or b_high == b_min or a_min == SHAPE - 1 or b_min == SHAPE - 1:\n",
    "#         one_wide_splits.append(((a_min, min(a_high, SHAPE -1)), (b_min, min(b_high, SHAPE - 1))))\n",
    "#     else:\n",
    "#         splits.append(((a_min, a_high), (b_min, b_high)))\n",
    "\n",
    "    \n"
   ]
  },
  {
   "cell_type": "code",
   "execution_count": 100,
   "metadata": {},
   "outputs": [],
   "source": [
    "# def sum_splits(one_wide_splits):\n",
    "#     total = 0\n",
    "\n",
    "#     for (a_low, a_high), (b_low, b_high) in one_wide_splits:\n",
    "#         #print(int(a_low), int(a_high), int(b_low), int(b_high))\n",
    "        \n",
    "\n",
    "#         if a_low == a_high:\n",
    "#             total += a[a_low] * (1 + b_high - b_low) + b[b_low:b_high + 1].sum()\n",
    "#         else:\n",
    "#             total += a[a_low:a_high + 1].sum() + b[b_low] * (1 + a_high - a_low)\n",
    "\n",
    "#         #print(total)\n",
    "\n",
    "#     return total\n",
    "\n",
    "# sum_splits(one_wide_splits)\n"
   ]
  },
  {
   "cell_type": "code",
   "execution_count": 101,
   "metadata": {},
   "outputs": [
    {
     "data": {
      "text/plain": [
       "np.int64(9986193514707759)"
      ]
     },
     "execution_count": 101,
     "metadata": {},
     "output_type": "execute_result"
    }
   ],
   "source": [
    "lower_bound = sum(a) + sum(b) + SHAPE * min(a) + SHAPE * min(b)\n",
    "lower_bound"
   ]
  },
  {
   "cell_type": "code",
   "execution_count": 102,
   "metadata": {},
   "outputs": [],
   "source": [
    "def indexes_to_sum(indexes):\n",
    "    total = 0\n",
    "    for x, y in indexes:\n",
    "        total += a[x] + b[y]\n",
    "    return total"
   ]
  },
  {
   "cell_type": "code",
   "execution_count": 103,
   "metadata": {},
   "outputs": [
    {
     "data": {
      "text/plain": [
       "np.int64(13389278727)"
      ]
     },
     "execution_count": 103,
     "metadata": {},
     "output_type": "execute_result"
    }
   ],
   "source": [
    "path = [(0, x) for x in range(5)] + [(x, 4) for x in range(1, 9)] + [(8, x) for x in range(5, 9)] + [(9, 8), (9, 9)]\n",
    "\n",
    "indexes_to_sum(path)"
   ]
  },
  {
   "cell_type": "code",
   "execution_count": 104,
   "metadata": {},
   "outputs": [
    {
     "data": {
      "text/plain": [
       "np.int64(11395256251387248)"
      ]
     },
     "execution_count": 104,
     "metadata": {},
     "output_type": "execute_result"
    }
   ],
   "source": [
    "naive_path = a[0] * np.argmin(b) + \\\n",
    "             a[np.argmin(a)] * (SHAPE - np.argmin(b)) + \\\n",
    "             a.sum() + \\\n",
    "             b[np.argmin(b)] * np.argmin(a) +\\\n",
    "             b[SHAPE - 1] * (SHAPE - np.argmin(a)) +\\\n",
    "             b.sum()\n",
    "naive_path"
   ]
  },
  {
   "cell_type": "code",
   "execution_count": 105,
   "metadata": {},
   "outputs": [],
   "source": [
    "rev_cumsum_a = np.concat([np.cumsum(a[::-1])[-2::-1], np.zeros(1, dtype = int)])\n",
    "rev_cumsum_b = np.concat([np.cumsum(b[::-1])[-2::-1], np.zeros(1, dtype = int)])"
   ]
  },
  {
   "cell_type": "code",
   "execution_count": 106,
   "metadata": {},
   "outputs": [],
   "source": [
    "# import heapq\n",
    "\n",
    "# visited = set()\n",
    "# frontier = []\n",
    "# heapq.heappush(frontier, (a[0] + b[0], (0, 0), a[0] + b[0]))\n",
    "# goal = False\n",
    "# min_cost = np.min(a) + np.min(b)\n",
    "# max_idx = (0, 0)\n",
    "# max_idx_cost = 0\n",
    "\n",
    "# while not goal:\n",
    "#     cost, (x, y), total = heapq.heappop(frontier)\n",
    "#     if (x, y) in visited:\n",
    "#         continue\n",
    "\n",
    "#     visited.add((x, y))\n",
    "\n",
    "#     if (x, y) == (SHAPE - 1, SHAPE - 1):\n",
    "#         print(total)\n",
    "#         goal = True\n",
    " \n",
    "#     if x + y > max_idx[0] + max_idx[1]:\n",
    "#         max_idx = (x, y)\n",
    "#         max_idx_cost = cost\n",
    "#         if 10 * (x + y) % (SHAPE * 2) == 0:\n",
    "#             print((x, y), cost, (x + y)/(2 * SHAPE))\n",
    "\n",
    "    \n",
    "#     if x < SHAPE - 1 and (x + 1, y) not in visited:\n",
    "#         new_cost = total + a[x + 1] + b[y]\n",
    "#         min_cost = new_cost + rev_cumsum_a[x + 1] + rev_cumsum_b[y] + (SHAPE - x - 1) * np.min(a[x + 1:]) + (SHAPE - y) * np.min(b[y:])\n",
    "#         heapq.heappush(frontier, (min_cost , (x + 1, y), new_cost))\n",
    "#     if y < SHAPE - 1 and (x, y + 1) not in visited:\n",
    "#         new_cost = total + a[x] + b[y + 1]\n",
    "#         min_cost = new_cost + rev_cumsum_a[x] + rev_cumsum_b[y + 1] + (SHAPE - x) * np.min(a[x:]) + (SHAPE - y - 1) * np.min(b[y + 1:])\n",
    "#         heapq.heappush(frontier, (min_cost , (x, y + 1), new_cost))\n",
    "\n",
    "# print(f'Fraction of nodes visited: {len(visited)/SHAPE**2}')\n",
    "# print(f'Fraction of visited nodes belonging to eventual path: {2 * SHAPE/len(visited)}')"
   ]
  }
 ],
 "metadata": {
  "kernelspec": {
   "display_name": "euler",
   "language": "python",
   "name": "python3"
  },
  "language_info": {
   "codemirror_mode": {
    "name": "ipython",
    "version": 3
   },
   "file_extension": ".py",
   "mimetype": "text/x-python",
   "name": "python",
   "nbconvert_exporter": "python",
   "pygments_lexer": "ipython3",
   "version": "3.12.9"
  }
 },
 "nbformat": 4,
 "nbformat_minor": 2
}
