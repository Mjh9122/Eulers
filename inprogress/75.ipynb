{
 "cells": [
  {
   "cell_type": "code",
   "execution_count": 13,
   "metadata": {},
   "outputs": [],
   "source": [
    "import math\n",
    "import numpy as np"
   ]
  },
  {
   "cell_type": "code",
   "execution_count": 16,
   "metadata": {},
   "outputs": [],
   "source": [
    "nums = [i for i in range(1_500_000)]\n",
    "sqrs = [i ** 2 for i in nums]"
   ]
  },
  {
   "cell_type": "code",
   "execution_count": 15,
   "metadata": {},
   "outputs": [
    {
     "name": "stdout",
     "output_type": "stream",
     "text": [
      "0.0\n"
     ]
    },
    {
     "ename": "KeyboardInterrupt",
     "evalue": "",
     "output_type": "error",
     "traceback": [
      "\u001b[1;31m---------------------------------------------------------------------------\u001b[0m",
      "\u001b[1;31mKeyboardInterrupt\u001b[0m                         Traceback (most recent call last)",
      "Cell \u001b[1;32mIn[15], line 6\u001b[0m\n\u001b[0;32m      4\u001b[0m \u001b[39mfor\u001b[39;00m j \u001b[39min\u001b[39;00m sqrs:\n\u001b[0;32m      5\u001b[0m     \u001b[39mif\u001b[39;00m i \u001b[39m+\u001b[39m j \u001b[39min\u001b[39;00m sqrs:\n\u001b[1;32m----> 6\u001b[0m         total \u001b[39m=\u001b[39m np\u001b[39m.\u001b[39;49mround(i \u001b[39m*\u001b[39;49m\u001b[39m*\u001b[39;49m \u001b[39m.5\u001b[39;49m \u001b[39m+\u001b[39;49m j \u001b[39m*\u001b[39;49m\u001b[39m*\u001b[39;49m \u001b[39m.5\u001b[39;49m \u001b[39m+\u001b[39;49m (i \u001b[39m+\u001b[39;49m j) \u001b[39m*\u001b[39;49m\u001b[39m*\u001b[39;49m \u001b[39m.5\u001b[39;49m)\n\u001b[0;32m      7\u001b[0m         \u001b[39mif\u001b[39;00m total \u001b[39min\u001b[39;00m num_sums:\n\u001b[0;32m      8\u001b[0m             num_sums[total] \u001b[39m+\u001b[39m\u001b[39m=\u001b[39m \u001b[39m1\u001b[39m\n",
      "File \u001b[1;32m<__array_function__ internals>:179\u001b[0m, in \u001b[0;36mround_\u001b[1;34m(*args, **kwargs)\u001b[0m\n",
      "File \u001b[1;32mc:\\Users\\Micha\\AppData\\Local\\Programs\\Python\\Python311\\Lib\\site-packages\\numpy\\core\\fromnumeric.py:3210\u001b[0m, in \u001b[0;36m_around_dispatcher\u001b[1;34m(a, decimals, out)\u001b[0m\n\u001b[0;32m   3206\u001b[0m         \u001b[39mexcept\u001b[39;00m \u001b[39mAttributeError\u001b[39;00m:\n\u001b[0;32m   3207\u001b[0m             \u001b[39mreturn\u001b[39;00m asarray(a)\u001b[39m.\u001b[39mshape[axis]\n\u001b[1;32m-> 3210\u001b[0m \u001b[39mdef\u001b[39;00m \u001b[39m_around_dispatcher\u001b[39m(a, decimals\u001b[39m=\u001b[39m\u001b[39mNone\u001b[39;00m, out\u001b[39m=\u001b[39m\u001b[39mNone\u001b[39;00m):\n\u001b[0;32m   3211\u001b[0m     \u001b[39mreturn\u001b[39;00m (a, out)\n\u001b[0;32m   3214\u001b[0m \u001b[39m@array_function_dispatch\u001b[39m(_around_dispatcher)\n\u001b[0;32m   3215\u001b[0m \u001b[39mdef\u001b[39;00m \u001b[39maround\u001b[39m(a, decimals\u001b[39m=\u001b[39m\u001b[39m0\u001b[39m, out\u001b[39m=\u001b[39m\u001b[39mNone\u001b[39;00m):\n",
      "\u001b[1;31mKeyboardInterrupt\u001b[0m: "
     ]
    }
   ],
   "source": [
    "num_sums = dict()\n",
    "for i in sqrs:\n",
    "    print(i**.5/1_500_000)\n",
    "    for j in sqrs:\n",
    "        if i + j in sqrs:\n",
    "            total = np.round(i ** .5 + j ** .5 + (i + j) ** .5)\n",
    "            if total in num_sums:\n",
    "                num_sums[total] += 1\n",
    "            else:\n",
    "                num_sums[total] = 1\n",
    "\n",
    "tot = 0\n",
    "for i, j in num_sums.items():\n",
    "    if j == 1:\n",
    "        tot += 1\n",
    "\n",
    "print(tot)\n"
   ]
  },
  {
   "cell_type": "code",
   "execution_count": null,
   "metadata": {},
   "outputs": [],
   "source": []
  }
 ],
 "metadata": {
  "kernelspec": {
   "display_name": "Python 3",
   "language": "python",
   "name": "python3"
  },
  "language_info": {
   "codemirror_mode": {
    "name": "ipython",
    "version": 3
   },
   "file_extension": ".py",
   "mimetype": "text/x-python",
   "name": "python",
   "nbconvert_exporter": "python",
   "pygments_lexer": "ipython3",
   "version": "3.11.1"
  },
  "orig_nbformat": 4,
  "vscode": {
   "interpreter": {
    "hash": "738da42b23c692d1c0a83c92c7da0fdf56c5882ea3bab9da5bfc0d2488af50c1"
   }
  }
 },
 "nbformat": 4,
 "nbformat_minor": 2
}
