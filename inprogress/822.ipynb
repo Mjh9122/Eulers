{
 "cells": [
  {
   "cell_type": "code",
   "execution_count": 1,
   "metadata": {},
   "outputs": [],
   "source": [
    "import math\n",
    "import numpy as np"
   ]
  },
  {
   "cell_type": "code",
   "execution_count": 2,
   "metadata": {},
   "outputs": [],
   "source": [
    "primes = [\n",
    "        2, 3, 5, 7, 11, 13, 17, 19, 23, 29, 31, 37, 41, 43, 47, 53, 59, 61, 67, 71, 73, 79, 83, 89, 97, 101, 103, 107, 109, 113, 127, 131, 137,\n",
    "        139, 149, 151, 157, 163, 167, 173, 179, 181, 191, 193, 197, 199, 211, 223, 227, 229, 233, 239, 241, 251, 257, 263, 269, 271, 277, 281,\n",
    "        283, 293, 307, 311, 313, 317, 331, 337, 347, 349, 353, 359, 367, 373, 379, 383, 389, 397, 401, 409, 419, 421, 431, 433, 439, 443, 449,\n",
    "        457, 461, 463, 467, 479, 487, 491, 499, 503, 509, 521, 523, 541, 547, 557, 563, 569, 571, 577, 587, 593, 599, 601, 607, 613, 617, 619,\n",
    "        631, 641, 643, 647, 653, 659, 661, 673, 677, 683, 691, 701, 709, 719, 727, 733, 739, 743, 751, 757, 761, 769, 773, 787, 797, 809, 811, \n",
    "        821, 823, 827, 829, 839, 853, 857, 859, 863, 877, 881, 883, 887, 907, 911, 919, 929, 937, 941, 947, 953, 967, 971, 977, 983, 991, 997\n",
    "    ]"
   ]
  },
  {
   "cell_type": "code",
   "execution_count": 3,
   "metadata": {},
   "outputs": [],
   "source": [
    "def find_mod_iter(base, exp, prime = 1234567891, bin_strs = None):\n",
    "    # Numbers are of the form base ^ (2 ^ exp)\n",
    "    # We need to find their modular residue by prime\n",
    "    # Fermat's little theorem gives us that base ^ (prime-1) % prime = 1\n",
    "    # Thus if we factor out bases in groups of (prime-1) they will not effect the residue\n",
    "    # In other words, we now need base ^ ((2 ^ exp) % (prime-1)) % prime\n",
    "    # We pass this new value into a separate function to optimize\n",
    "    # We now have a number of the form base ^ true_exp.\n",
    "    # print(true_exp)\n",
    "    # We can quickly calculate this number using modular exponentiation\n",
    "    if exp not in bin_strs:\n",
    "        true_exp = inside_mod(exp)\n",
    "        bin_tru_exp = bin(true_exp)\n",
    "        bin_tru_exp = bin_tru_exp[2:]\n",
    "        bin_tru_exp = bin_tru_exp[::-1]\n",
    "    else:\n",
    "        bin_tru_exp = bin_strs[exp]\n",
    "    mods = [base]\n",
    "    for i in bin_tru_exp[1:]:\n",
    "        mods.append((mods[-1] ** 2) % prime)\n",
    "    product = 1\n",
    "    for i, m in enumerate(mods):\n",
    "        if bin_tru_exp[i] == \"1\":\n",
    "            product *= m\n",
    "    return product % prime\n",
    "\n",
    "def inside_mod(exp, prime=1234567891):\n",
    "    # calculates (2 ^ exp) % (prime - 1) using euler's totient, not implemented for other primes\n",
    "    if prime != 1234567891:\n",
    "        raise Exception\n",
    "    tot = 4938271560\n",
    "    string_pow = \"1\" + \"0\" * ((exp) % tot)\n",
    "    return (int(string_pow, 2)) % (prime-1)"
   ]
  },
  {
   "cell_type": "code",
   "execution_count": 7,
   "metadata": {},
   "outputs": [
    {
     "name": "stdout",
     "output_type": "stream",
     "text": [
      "count:2\n",
      "whole rounds: 10, total: 92\n",
      "8 or 8\n",
      "completed 100 rounds\n",
      "0.0\n",
      "11.11111111111111\n",
      "22.22222222222222\n",
      "33.333333333333336\n",
      "44.44444444444444\n",
      "55.55555555555556\n",
      "66.66666666666667\n",
      "77.77777777777777\n",
      "88.88888888888889\n",
      "845339386\n"
     ]
    }
   ],
   "source": [
    "# init vars \n",
    "n, m = 10, 100\n",
    "# Make lists for the original numbers, their log base ten, and the number of times that number will be squared \n",
    "nums = [i for i in range(2, n+1)]\n",
    "logs = [math.log(i, 10) for i in nums]\n",
    "doubles = [0 for i in nums]\n",
    "# combine into one large list\n",
    "arr = [[logs[i], doubles[i], nums[i]] for i in range(len(nums))]\n",
    "\n",
    "# Run basic square smallest until squaring the smallest term will result in it being the largest\n",
    "count = 0\n",
    "while arr[0][0]*2 < arr[n-2][0]: \n",
    "    count += 1\n",
    "    arr[0][0] *= 2\n",
    "    arr[0][1] += 1\n",
    "    for j in range(len(arr)-1):\n",
    "        if arr[j][0] > arr[j+1][0]:\n",
    "            arr[j], arr[j+1] = arr[j+1], arr[j]\n",
    "        else:\n",
    "            break\n",
    "print(f\"count:{count}\")\n",
    "\n",
    "# Now we skip the bulk of the iteration by assuming that a cycle of elements will repeat for the rest of the process\n",
    "left = m - count\n",
    "whole_rounds = left//(n-1)\n",
    "print(f\"whole rounds: {whole_rounds}, total: {whole_rounds * (n - 1) + count}\")\n",
    "for a in arr:\n",
    "    a[1] += whole_rounds\n",
    "print(f\"{left % (n-1)} or {m - (whole_rounds)*(n-1) - count}\")\n",
    "\n",
    "# Once this skip is done, we run the basic process again for the remaining steps\n",
    "for i in range(left % (n-1)):\n",
    "    count += 1\n",
    "    arr[0][0] *= 2\n",
    "    arr[0][1] += 1\n",
    "    for j in range(len(arr)-1):\n",
    "        if arr[j][0] > arr[j+1][0]:\n",
    "            arr[j], arr[j+1] = arr[j+1], arr[j]\n",
    "        else:\n",
    "            break\n",
    "\n",
    "# pre-compute some mods, as many are the same\n",
    "bin_strs = {}\n",
    "for (log, exp, num) in arr:\n",
    "    if exp not in bin_strs:\n",
    "        true_exp = inside_mod(exp)\n",
    "        bin_tru_exp = bin(true_exp)\n",
    "        bin_tru_exp = bin_tru_exp[2:]\n",
    "        bin_tru_exp = bin_tru_exp[::-1]\n",
    "        bin_strs[exp] = bin_tru_exp\n",
    "total = 0\n",
    "print(f\"completed {whole_rounds * (n-1) + count} rounds\")\n",
    "# Calculate the sum using a fast modular exponentiation method\n",
    "for i, num in enumerate(arr):\n",
    "    print(100 * i / (n-1))\n",
    "    total += find_mod_iter(num[2], num[1], bin_strs=bin_strs)\n",
    "    total %= 1234567891\n",
    "print(total)\n"
   ]
  },
  {
   "cell_type": "code",
   "execution_count": 5,
   "metadata": {},
   "outputs": [
    {
     "name": "stdout",
     "output_type": "stream",
     "text": [
      "522320471\n"
     ]
    }
   ],
   "source": [
    "n, m = 1000, 10000\n",
    "arr = [i for i in range(2, n+1)]\n",
    "for i in range(m):\n",
    "    arr[0] *= arr[0]\n",
    "    for j in range(len(arr)-1):\n",
    "        if arr[j] > arr[j+1]:\n",
    "            arr[j], arr[j+1] = arr[j+1], arr[j]\n",
    "        else:\n",
    "            break\n",
    "print(sum(arr) % 1234567891)\n"
   ]
  },
  {
   "cell_type": "code",
   "execution_count": 6,
   "metadata": {},
   "outputs": [
    {
     "data": {
      "text/plain": [
       "223489180"
      ]
     },
     "execution_count": 6,
     "metadata": {},
     "output_type": "execute_result"
    }
   ],
   "source": []
  }
 ],
 "metadata": {
  "kernelspec": {
   "display_name": "Python 3",
   "language": "python",
   "name": "python3"
  },
  "language_info": {
   "codemirror_mode": {
    "name": "ipython",
    "version": 3
   },
   "file_extension": ".py",
   "mimetype": "text/x-python",
   "name": "python",
   "nbconvert_exporter": "python",
   "pygments_lexer": "ipython3",
   "version": "3.11.1 (tags/v3.11.1:a7a450f, Dec  6 2022, 19:58:39) [MSC v.1934 64 bit (AMD64)]"
  },
  "orig_nbformat": 4,
  "vscode": {
   "interpreter": {
    "hash": "738da42b23c692d1c0a83c92c7da0fdf56c5882ea3bab9da5bfc0d2488af50c1"
   }
  }
 },
 "nbformat": 4,
 "nbformat_minor": 2
}
