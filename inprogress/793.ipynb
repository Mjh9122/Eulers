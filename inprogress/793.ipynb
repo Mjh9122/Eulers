{
 "cells": [
  {
   "cell_type": "code",
   "execution_count": 2,
   "metadata": {},
   "outputs": [],
   "source": [
    "import math\n",
    "import numpy as np\n",
    "from tqdm import tqdm"
   ]
  },
  {
   "cell_type": "code",
   "execution_count": 3,
   "metadata": {},
   "outputs": [],
   "source": [
    "def gen_nums(x):\n",
    "    s = [290797]\n",
    "    for i in range(x-1):\n",
    "        s.append(s[-1]**2 %50515093)\n",
    "    return s\n",
    "    "
   ]
  },
  {
   "cell_type": "code",
   "execution_count": null,
   "metadata": {},
   "outputs": [
    {
     "name": "stderr",
     "output_type": "stream",
     "text": [
      "284it [01:35,  2.97it/s]\n"
     ]
    },
    {
     "ename": "KeyboardInterrupt",
     "evalue": "",
     "output_type": "error",
     "traceback": [
      "\u001b[1;31m---------------------------------------------------------------------------\u001b[0m",
      "\u001b[1;31mKeyboardInterrupt\u001b[0m                         Traceback (most recent call last)",
      "Cell \u001b[1;32mIn[31], line 5\u001b[0m\n\u001b[0;32m      3\u001b[0m \u001b[39mfor\u001b[39;00m i, j \u001b[39min\u001b[39;00m tqdm(\u001b[39menumerate\u001b[39m(nums)):\n\u001b[0;32m      4\u001b[0m     \u001b[39mfor\u001b[39;00m k \u001b[39min\u001b[39;00m nums[i\u001b[39m+\u001b[39m\u001b[39m1\u001b[39m:]:\n\u001b[1;32m----> 5\u001b[0m         prods\u001b[39m.\u001b[39mappend(j \u001b[39m*\u001b[39m k)\n\u001b[0;32m      7\u001b[0m \u001b[39mprint\u001b[39m(np\u001b[39m.\u001b[39mmedian(prods))\n",
      "\u001b[1;31mKeyboardInterrupt\u001b[0m: "
     ]
    }
   ],
   "source": [
    "nums = gen_nums(1_000_003)\n",
    "\n",
    "prods = []\n",
    "for i, j in tqdm(enumerate(nums)):\n",
    "    for k in nums[i+1:]:\n",
    "        prods.append(j * k)\n",
    "\n",
    "print(np.median(prods))\n"
   ]
  },
  {
   "cell_type": "markdown",
   "metadata": {},
   "source": []
  },
  {
   "cell_type": "code",
   "execution_count": null,
   "metadata": {},
   "outputs": [],
   "source": []
  }
 ],
 "metadata": {
  "kernelspec": {
   "display_name": "Python 3",
   "language": "python",
   "name": "python3"
  },
  "language_info": {
   "codemirror_mode": {
    "name": "ipython",
    "version": 3
   },
   "file_extension": ".py",
   "mimetype": "text/x-python",
   "name": "python",
   "nbconvert_exporter": "python",
   "pygments_lexer": "ipython3",
   "version": "3.11.1"
  },
  "orig_nbformat": 4,
  "vscode": {
   "interpreter": {
    "hash": "738da42b23c692d1c0a83c92c7da0fdf56c5882ea3bab9da5bfc0d2488af50c1"
   }
  }
 },
 "nbformat": 4,
 "nbformat_minor": 2
}
