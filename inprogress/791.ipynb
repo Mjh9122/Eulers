{
 "cells": [
  {
   "attachments": {},
   "cell_type": "markdown",
   "metadata": {},
   "source": [
    "## Problem number 791\n",
    "Let $S(n)$ be the sum of all quadruples of integers $(a, b, c, d)$ s.t. $ 1 \\le a \\le b \\le c \\le d \\le n$ such that their average is exactly twice their variance.   \n",
    "S(5) = 48 (1, 1, 1, 3), (1, 1, 3, 3), (1, 2, 3, 4), (1, 3, 4, 4), (2, 2, 3, 5).  \n",
    "S(1000) = 37048340.  \n",
    "Find $S(10^8) \\text{ mod } 433494437$ "
   ]
  },
  {
   "attachments": {},
   "cell_type": "markdown",
   "metadata": {},
   "source": [
    "We notice that the problem quickly becomes intractable when considering looping through all possible quadruples. So we seek to shrink the input space.   \n",
    "First we notice that when the first three integers are given, there are exactly two values that make the mean twice the variance, and if these numbers are not an integer or are smaller than the others, we can throw out the quad.   "
   ]
  },
  {
   "cell_type": "code",
   "execution_count": 3,
   "metadata": {},
   "outputs": [],
   "source": [
    "import math\n",
    "import numpy as np\n",
    "import matplotlib.pyplot as plt"
   ]
  },
  {
   "attachments": {},
   "cell_type": "markdown",
   "metadata": {},
   "source": [
    "This means we only have to iterate over a, b, and c. But this is still to large of a search space. Next we try to throw out more combinations if a, b, c does not return a number then a, b, c+1 also does not. "
   ]
  },
  {
   "cell_type": "code",
   "execution_count": 8,
   "metadata": {},
   "outputs": [
    {
     "name": "stdout",
     "output_type": "stream",
     "text": [
      "37048340.0 0 0.0\n"
     ]
    }
   ],
   "source": [
    "# 1 <= a <= b <= c <= d <= n\n",
    "n = 1000\n",
    "total = 0\n",
    "count = 0\n",
    "for d in np.arange(n, 0, -1, dtype=np.float64):\n",
    "    min_c, max_c = 0, d\n",
    "    if (sqrt := 24 * d + 9) >= 0: \n",
    "        sqrt = math.sqrt(sqrt)\n",
    "        min_c, max_c = (\n",
    "            int(((3 * d + 3) - sqrt) / 3) - 1,\n",
    "            int(((3 * d + 3) + sqrt) / 3) + 1,\n",
    "        )\n",
    "    for c in np.arange(min(d, max_c), max(min_c, 0), -1):\n",
    "        if (\n",
    "            sqrt := (2 * (1 + c + d)) ** 2\n",
    "            - 8 * ((3 / 2) * c**2 - d * c + (3 / 2) * d**2 - d - c)\n",
    "        ) >= 0:\n",
    "            min_b, max_b = 0, c\n",
    "            sqrt = math.sqrt(sqrt)\n",
    "            min_b = int(((2 + 2 * c + 2 * d) - sqrt) / 4 - 0.0001)\n",
    "        for b in np.arange(c, max(0, min_b), -1):\n",
    "            # count += 1\n",
    "            sum_max = d + c + 2 * b\n",
    "            a = (1 + b + c + d\n",
    "                - math.sqrt((-1 - b - c - d) ** 2\n",
    "                + 6 * (b + c + d + b * c + b * d + c * d\n",
    "                        - (3 / 2) * (b * b + c * c + d * d)))) / 3\n",
    "            if not int(a) == a:\n",
    "                continue\n",
    "            elif 1 <= a <= b:\n",
    "                total += a + b + c + d\n",
    "                if total > 433494437:\n",
    "                    total %= 433494437\n",
    " \n",
    "print(total, count, count / n**2)"
   ]
  },
  {
   "attachments": {},
   "cell_type": "markdown",
   "metadata": {},
   "source": [
    "Any set of a, b, c, and d must equal zero when plugged into the following polynomial"
   ]
  },
  {
   "cell_type": "code",
   "execution_count": null,
   "metadata": {},
   "outputs": [],
   "source": [
    "def huge_func(a, b, c, d):\n",
    "    alpha, beta, gamma, delta = a / 4, b / 4, c / 4, d / 4\n",
    "    return (\n",
    "        6 * alpha**2\n",
    "        + (-4) * (alpha * beta + alpha * gamma + alpha * delta)\n",
    "        - alpha\n",
    "        + 6 * beta**2\n",
    "        + (-4) * (beta * gamma + beta * delta)\n",
    "        - beta\n",
    "        + 6 * gamma**2\n",
    "        - 4 * gamma * delta\n",
    "        - gamma\n",
    "        + 6 * delta**2\n",
    "        - delta\n",
    "    )"
   ]
  }
 ],
 "metadata": {
  "kernelspec": {
   "display_name": "Python 3",
   "language": "python",
   "name": "python3"
  },
  "language_info": {
   "codemirror_mode": {
    "name": "ipython",
    "version": 3
   },
   "file_extension": ".py",
   "mimetype": "text/x-python",
   "name": "python",
   "nbconvert_exporter": "python",
   "pygments_lexer": "ipython3",
   "version": "3.11.1 (tags/v3.11.1:a7a450f, Dec  6 2022, 19:58:39) [MSC v.1934 64 bit (AMD64)]"
  },
  "orig_nbformat": 4,
  "vscode": {
   "interpreter": {
    "hash": "738da42b23c692d1c0a83c92c7da0fdf56c5882ea3bab9da5bfc0d2488af50c1"
   }
  }
 },
 "nbformat": 4,
 "nbformat_minor": 2
}
