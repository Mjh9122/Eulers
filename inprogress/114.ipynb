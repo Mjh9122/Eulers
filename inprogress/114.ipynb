{
 "cells": [
  {
   "cell_type": "code",
   "execution_count": 1,
   "metadata": {},
   "outputs": [],
   "source": [
    "import numpy as np"
   ]
  },
  {
   "cell_type": "code",
   "execution_count": null,
   "metadata": {},
   "outputs": [],
   "source": [
    "class Solution():\n",
    "    def __init__(self, length, parent = None):\n",
    "        self.length = length\n",
    "        if parent:\n",
    "            self.arr = parent\n",
    "        else:\n",
    "            self.arr = [] \n",
    "    \n",
    "    def make_children(self):\n",
    "        if self.arr == self.length:\n",
    "            count += 1\n",
    "        if self.arr[-1] == 0 or set(self.arr[-3:]) == set([1]):\n",
    "            return [Solution(self.length, self.arr.extend([1])), Solution(self.length, self.arr.extend([0]))]\n",
    "        else:\n",
    "            return [Solution(self.length, self.arr.extend([0]))]\n"
   ]
  }
 ],
 "metadata": {
  "kernelspec": {
   "display_name": "Python 3",
   "language": "python",
   "name": "python3"
  },
  "language_info": {
   "codemirror_mode": {
    "name": "ipython",
    "version": 3
   },
   "file_extension": ".py",
   "mimetype": "text/x-python",
   "name": "python",
   "nbconvert_exporter": "python",
   "pygments_lexer": "ipython3",
   "version": "3.11.1"
  },
  "orig_nbformat": 4,
  "vscode": {
   "interpreter": {
    "hash": "738da42b23c692d1c0a83c92c7da0fdf56c5882ea3bab9da5bfc0d2488af50c1"
   }
  }
 },
 "nbformat": 4,
 "nbformat_minor": 2
}
