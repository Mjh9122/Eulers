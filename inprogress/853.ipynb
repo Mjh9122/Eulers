{
 "cells": [
  {
   "cell_type": "code",
   "execution_count": 47,
   "metadata": {},
   "outputs": [],
   "source": [
    "import numpy as np\n",
    "\n",
    "from tqdm import tqdm\n",
    "\n",
    "from sympy import primefactors, primerange, factorint"
   ]
  },
  {
   "cell_type": "code",
   "execution_count": 27,
   "metadata": {},
   "outputs": [],
   "source": [
    "primes = primerange(0, 1_000_000_000)"
   ]
  },
  {
   "cell_type": "code",
   "execution_count": 28,
   "metadata": {},
   "outputs": [
    {
     "name": "stdout",
     "output_type": "stream",
     "text": [
      "2 3 1\n",
      "3 8 2\n",
      "5 20 3\n",
      "7 16 4\n",
      "11 10 5\n",
      "13 28 6\n",
      "17 36 7\n",
      "19 18 8\n",
      "23 48 9\n",
      "29 14 10\n",
      "31 30 11\n",
      "37 76 12\n",
      "41 40 13\n",
      "43 88 14\n",
      "47 32 15\n",
      "53 108 16\n",
      "59 58 17\n",
      "61 60 18\n",
      "71 70 19\n",
      "79 78 20\n",
      "89 44 21\n",
      "101 50 22\n",
      "107 72 23\n",
      "109 108 24\n",
      "113 76 25\n",
      "139 46 26\n",
      "151 50 27\n",
      "181 90 28\n",
      "199 22 29\n",
      "211 42 30\n",
      "229 114 31\n",
      "233 52 32\n",
      "281 56 33\n",
      "307 88 34\n",
      "331 110 35\n",
      "421 84 36\n",
      "461 46 37\n",
      "521 26 38\n",
      "541 90 39\n",
      "709 118 40\n",
      "859 78 41\n",
      "911 70 42\n",
      "919 102 43\n",
      "1103 96 44\n",
      "1597 68 45\n",
      "2161 80 46\n",
      "2207 64 47\n",
      "2521 120 48\n",
      "3001 100 49\n",
      "3469 102 50\n",
      "3571 34 51\n",
      "5779 54 52\n",
      "6709 86 53\n",
      "8969 118 54\n",
      "9349 38 55\n",
      "9901 66 56\n",
      "14503 112 57\n",
      "19489 58 58\n",
      "28657 92 59\n",
      "39161 110 60\n",
      "90481 104 61\n",
      "95419 114 62\n",
      "144481 86 63\n",
      "336419 118 64\n",
      "514229 116 65\n",
      "3010349 62 66\n",
      "54018521 74 67\n",
      "370248451 82 68\n",
      "599786069 98 69\n"
     ]
    }
   ],
   "source": [
    "target = 120\n",
    "search_limit = 1_000_000_000\n",
    "total = 0\n",
    "\n",
    "prime_periods = {}\n",
    "\n",
    "for i, p in enumerate(primes):\n",
    "    a, b = 0, 1\n",
    "    for i in range(target + 1):\n",
    "        c = (a + b) % p\n",
    "        a, b = b, c\n",
    "        if a == 0 and b == 1:\n",
    "            prime_periods[p] = i + 1\n",
    "            print(p, i + 1, len(prime_periods))\n",
    "            break"
   ]
  },
  {
   "cell_type": "code",
   "execution_count": 69,
   "metadata": {},
   "outputs": [],
   "source": [
    "def check_factors(pi):\n",
    "    return 120 % pi == 0"
   ]
  },
  {
   "cell_type": "code",
   "execution_count": 70,
   "metadata": {},
   "outputs": [],
   "source": [
    "filtered_primes = {p:pi for (p, pi) in prime_periods.items() if check_factors(pi)}"
   ]
  },
  {
   "cell_type": "code",
   "execution_count": 71,
   "metadata": {},
   "outputs": [
    {
     "data": {
      "text/plain": [
       "{2: 3, 3: 8, 5: 20, 11: 10, 31: 30, 41: 40, 61: 60, 2521: 120}"
      ]
     },
     "execution_count": 71,
     "metadata": {},
     "output_type": "execute_result"
    }
   ],
   "source": [
    "filtered_primes"
   ]
  },
  {
   "cell_type": "code",
   "execution_count": null,
   "metadata": {},
   "outputs": [],
   "source": []
  }
 ],
 "metadata": {
  "kernelspec": {
   "display_name": "euler",
   "language": "python",
   "name": "python3"
  },
  "language_info": {
   "codemirror_mode": {
    "name": "ipython",
    "version": 3
   },
   "file_extension": ".py",
   "mimetype": "text/x-python",
   "name": "python",
   "nbconvert_exporter": "python",
   "pygments_lexer": "ipython3",
   "version": "3.12.9"
  }
 },
 "nbformat": 4,
 "nbformat_minor": 2
}
