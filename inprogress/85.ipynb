{
 "cells": [
  {
   "cell_type": "code",
   "execution_count": 1,
   "metadata": {},
   "outputs": [],
   "source": [
    "import numpy\n",
    "import math"
   ]
  },
  {
   "cell_type": "code",
   "execution_count": 6,
   "metadata": {},
   "outputs": [
    {
     "name": "stdout",
     "output_type": "stream",
     "text": [
      "2\n",
      "2772\n"
     ]
    }
   ],
   "source": [
    "# Use cobinatorics to find that the rects in a row is a triangular number, then multiply that by the cols' triangle munber to get the total\n",
    "def num_rects(x:int, y:int):    \n",
    "    return x * (x + 1) * y * (y + 1)//4\n",
    "\n",
    "# Iterate through some rects to find a minimum\n",
    "min = 2_000_000\n",
    "for i in range(100):\n",
    "    for j in range(100):\n",
    "        if (dist := abs(num_rects(i, j) - 2_000_000)) < min:\n",
    "            min = dist\n",
    "            num = i * j\n",
    "print(min)\n",
    "print(num)"
   ]
  },
  {
   "cell_type": "code",
   "execution_count": null,
   "metadata": {},
   "outputs": [],
   "source": []
  }
 ],
 "metadata": {
  "kernelspec": {
   "display_name": "Python 3",
   "language": "python",
   "name": "python3"
  },
  "language_info": {
   "codemirror_mode": {
    "name": "ipython",
    "version": 3
   },
   "file_extension": ".py",
   "mimetype": "text/x-python",
   "name": "python",
   "nbconvert_exporter": "python",
   "pygments_lexer": "ipython3",
   "version": "3.11.1"
  },
  "orig_nbformat": 4,
  "vscode": {
   "interpreter": {
    "hash": "738da42b23c692d1c0a83c92c7da0fdf56c5882ea3bab9da5bfc0d2488af50c1"
   }
  }
 },
 "nbformat": 4,
 "nbformat_minor": 2
}
