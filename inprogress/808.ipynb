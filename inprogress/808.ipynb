{
 "cells": [
  {
   "cell_type": "code",
   "execution_count": 76,
   "metadata": {},
   "outputs": [],
   "source": [
    "import math\n",
    "import numpy as np\n",
    "\n",
    "from tqdm import tqdm"
   ]
  },
  {
   "cell_type": "code",
   "execution_count": 77,
   "metadata": {},
   "outputs": [
    {
     "name": "stdout",
     "output_type": "stream",
     "text": [
      "[2, 3, 5, 7, 11]\n"
     ]
    }
   ],
   "source": [
    "with open('../txts/primes.txt') as prime_file:\n",
    "    primes = list()\n",
    "    prime_lines = prime_file.readlines()\n",
    "    for line in prime_lines:\n",
    "        primes.extend(line.split(\" \"))\n",
    "    primes = [int(p) for p in primes]\n",
    "\n",
    "print(primes[:5])"
   ]
  },
  {
   "cell_type": "code",
   "execution_count": 78,
   "metadata": {},
   "outputs": [
    {
     "name": "stderr",
     "output_type": "stream",
     "text": [
      "100%|██████████| 434230/434230 [00:01<00:00, 352093.14it/s]\n"
     ]
    }
   ],
   "source": [
    "prime_squares = [p**2 for p in primes if (str(p**2)[0] in (\"1\", \"9\") and str(p**2)[-1] in (\"1\", \"9\"))]\n",
    "prime_sqr_lens = [len(str(p)) for p in prime_squares]\n",
    "revs = [] \n",
    "\n",
    "active_len = 0\n",
    "for p2 in tqdm(prime_squares):\n",
    "    string_prime = str(p2) \n",
    "    if (new_len := len(string_prime)) > active_len:\n",
    "        active_len = new_len\n",
    "        candidates = [prime_squares[i] for i, j in enumerate(prime_sqr_lens) if j == active_len]\n",
    "    rev = int(string_prime[::-1])\n",
    "    if  rev in candidates and p2 != rev:\n",
    "        revs.append(p2)\n",
    "        if len(revs) >= 32:\n",
    "            print(len(revs))\n",
    "    if len(revs) == 50:\n",
    "        break"
   ]
  },
  {
   "cell_type": "code",
   "execution_count": 79,
   "metadata": {},
   "outputs": [
    {
     "name": "stdout",
     "output_type": "stream",
     "text": [
      "[]\n"
     ]
    }
   ],
   "source": [
    "print(revs)"
   ]
  },
  {
   "cell_type": "code",
   "execution_count": null,
   "metadata": {},
   "outputs": [],
   "source": []
  }
 ],
 "metadata": {
  "kernelspec": {
   "display_name": "Python 3",
   "language": "python",
   "name": "python3"
  },
  "language_info": {
   "codemirror_mode": {
    "name": "ipython",
    "version": 3
   },
   "file_extension": ".py",
   "mimetype": "text/x-python",
   "name": "python",
   "nbconvert_exporter": "python",
   "pygments_lexer": "ipython3",
   "version": "3.11.1"
  },
  "orig_nbformat": 4
 },
 "nbformat": 4,
 "nbformat_minor": 2
}
