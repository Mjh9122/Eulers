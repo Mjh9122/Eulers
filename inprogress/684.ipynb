{
 "cells": [
  {
   "cell_type": "code",
   "execution_count": 1,
   "metadata": {},
   "outputs": [],
   "source": [
    "import numpy as np\n",
    "\n",
    "from multiprocessing import Pool\n",
    "from itertools import accumulate\n",
    "\n",
    "from tqdm import tqdm\n",
    "p = 1_000_000_007"
   ]
  },
  {
   "cell_type": "code",
   "execution_count": 2,
   "metadata": {},
   "outputs": [],
   "source": [
    "def mod_min_dig_sum(x):\n",
    "    y = (x // 9) % p\n",
    "    z = x % 9\n",
    "    total = (z * (10 ** y)% p)\n",
    "    total += (10 ** y - 1) %p\n",
    "    return total%p\n",
    "\n",
    "    \n",
    "def by_nines_sum(x):\n",
    "    n = (x // 9) % p\n",
    "    left = x % 9\n",
    "    num = 0\n",
    "    if n > 0:\n",
    "        num = (6 * 10 ** n)%p - (6 + (9 * n))%p\n",
    "    for i in range(x-left + 1, x+ 1):\n",
    "        num += mod_min_dig_sum(i)\n",
    "        num %= p\n",
    "    return num %p\n",
    "\n",
    "def tri(n):\n",
    "    return(n * (n-1) // 2)"
   ]
  },
  {
   "cell_type": "code",
   "execution_count": 3,
   "metadata": {},
   "outputs": [
    {
     "name": "stdout",
     "output_type": "stream",
     "text": [
      "1074\n",
      "[1, 1, 2, 3, 5, 8, 13, 21, 34, 55, 89, 144, 233, 377, 610, 987, 1597, 2584, 4181, 6765, 10946, 17711, 28657, 46368, 75025, 121393, 196418, 317811, 514229, 832040, 1346269, 2178309, 3524578, 5702887, 9227465, 14930352, 24157817, 39088169, 63245986, 102334155, 165580141, 267914296, 433494437, 701408733, 1134903170, 1836311903, 2971215073, 4807526976, 7778742049, 12586269025, 20365011074, 32951280099, 53316291173, 86267571272, 139583862445, 225851433717, 365435296162, 591286729879, 956722026041, 1548008755920, 2504730781961, 4052739537881, 6557470319842, 10610209857723, 17167680177565, 27777890035288, 44945570212853, 72723460248141, 117669030460994, 190392490709135, 308061521170129, 498454011879264, 806515533049393, 1304969544928657, 2111485077978050, 3416454622906707, 5527939700884757, 8944394323791464, 14472334024676221, 23416728348467685, 37889062373143906, 61305790721611591, 99194853094755497, 160500643816367088, 259695496911122585, 420196140727489673, 679891637638612258, 1100087778366101931, 1779979416004714189, 2880067194370816120]\n"
     ]
    }
   ],
   "source": [
    "p = 1_000_000_007\n",
    "fibs = [1, 1]\n",
    "for i in range(88):\n",
    "    fibs.append(fibs[-2]+fibs[-1])\n",
    "print(by_nines_sum(20))\n",
    "print(fibs)\n",
    "sums = list()\n",
    "\n",
    "with Pool() as pool:\n",
    "    r = list(pool.map(by_nines_sum, fibs[:10]))\n",
    "print(result)\n"
   ]
  },
  {
   "cell_type": "code",
   "execution_count": null,
   "metadata": {},
   "outputs": [],
   "source": [
    "\n"
   ]
  }
 ],
 "metadata": {
  "kernelspec": {
   "display_name": "Python 3",
   "language": "python",
   "name": "python3"
  },
  "language_info": {
   "codemirror_mode": {
    "name": "ipython",
    "version": 3
   },
   "file_extension": ".py",
   "mimetype": "text/x-python",
   "name": "python",
   "nbconvert_exporter": "python",
   "pygments_lexer": "ipython3",
   "version": "3.11.1"
  },
  "orig_nbformat": 4,
  "vscode": {
   "interpreter": {
    "hash": "738da42b23c692d1c0a83c92c7da0fdf56c5882ea3bab9da5bfc0d2488af50c1"
   }
  }
 },
 "nbformat": 4,
 "nbformat_minor": 2
}
