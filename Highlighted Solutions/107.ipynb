{
 "cells": [
  {
   "attachments": {},
   "cell_type": "markdown",
   "metadata": {},
   "source": [
    "## Michael Holtz\n",
    "Python Solution for Project Euler Problem #107  \n",
    "All code is mine  \n",
    "Little bit of low hanging fruit, but thats why you learn how to use libraries  \n",
    "Problem: [link](https://projecteuler.net/problem=107)"
   ]
  },
  {
   "cell_type": "code",
   "execution_count": 1,
   "metadata": {},
   "outputs": [],
   "source": [
    "import networkx as nx\n",
    "import math\n",
    "import numpy as np"
   ]
  },
  {
   "cell_type": "code",
   "execution_count": 2,
   "metadata": {},
   "outputs": [
    {
     "name": "stdout",
     "output_type": "stream",
     "text": [
      "['-', '-', '-', '427', '668', '495', '377', '678', '-', '177', '-', '-', '870', '-', '869', '624', '300', '609', '131', '-', '251', '-', '-', '-', '856', '221', '514', '-', '591', '762', '182', '56', '-', '884', '412', '273', '636', '-', '-', '774']\n"
     ]
    }
   ],
   "source": [
    "edges = list()\n",
    "with open(\"../txts/p107_network.txt\") as network_file:\n",
    "    lines = network_file.readlines()\n",
    "    for line in lines:\n",
    "        edges.append(line.strip(\"\\n\").split(','))\n",
    "    print(edges[0])"
   ]
  },
  {
   "cell_type": "code",
   "execution_count": 3,
   "metadata": {},
   "outputs": [
    {
     "name": "stdout",
     "output_type": "stream",
     "text": [
      "261832\n",
      "259679\n"
     ]
    }
   ],
   "source": [
    "g = nx.Graph()\n",
    "\n",
    "start = 0\n",
    "for row, edge in enumerate(edges):\n",
    "    for col, e in enumerate(edge):\n",
    "        try: \n",
    "            start += int(e)\n",
    "            g.add_weighted_edges_from([(row, col, int(e))])\n",
    "        except: pass\n",
    "\n",
    "\n",
    "t = nx.algorithms.minimum_spanning_tree(g, weight=\"weight\")\n",
    "print(start//2 - sum(nx.get_edge_attributes(t, \"weight\").values()))"
   ]
  }
 ],
 "metadata": {
  "kernelspec": {
   "display_name": "Python 3",
   "language": "python",
   "name": "python3"
  },
  "language_info": {
   "codemirror_mode": {
    "name": "ipython",
    "version": 3
   },
   "file_extension": ".py",
   "mimetype": "text/x-python",
   "name": "python",
   "nbconvert_exporter": "python",
   "pygments_lexer": "ipython3",
   "version": "3.11.1"
  },
  "orig_nbformat": 4,
  "vscode": {
   "interpreter": {
    "hash": "738da42b23c692d1c0a83c92c7da0fdf56c5882ea3bab9da5bfc0d2488af50c1"
   }
  }
 },
 "nbformat": 4,
 "nbformat_minor": 2
}
