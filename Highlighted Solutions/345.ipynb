{
 "cells": [
  {
   "attachments": {},
   "cell_type": "markdown",
   "metadata": {},
   "source": [
    "## Michael Holtz\n",
    "Python Solution for Project Euler Problem #345  \n",
    "All code is mine  \n",
    "Problem: [link](https://projecteuler.net/problem=345)"
   ]
  },
  {
   "cell_type": "code",
   "execution_count": 10,
   "metadata": {},
   "outputs": [
    {
     "name": "stdout",
     "output_type": "stream",
     "text": [
      "13319 [4, 10, 7, 1, 3, 8, 13, 14, 9, 11, 6, 5, 12, 2, 0]\n",
      "13848 [4, 10, 9, 7, 3, 0, 13, 2, 14, 11, 6, 5, 12, 8, 1]\n",
      "13892 [9, 10, 7, 4, 0, 8, 13, 3, 14, 11, 6, 5, 12, 2, 1]\n",
      "13938 [9, 10, 7, 4, 3, 0, 13, 2, 14, 11, 6, 5, 12, 8, 1]\n"
     ]
    }
   ],
   "source": [
    "# Starts with a random config, then swaps rows to increase the sum until no switches improve the sum. \n",
    "# Because it is random, you must run it multiple times, to ensure that it does not get caught at a local maximum.\n",
    "import numpy as np\n",
    "import random\n",
    "import itertools\n",
    "\n",
    "with open(\"../txts/matrix2.txt\") as mat_f:\n",
    "    lines = mat_f.read().splitlines()\n",
    "\n",
    "mat = []\n",
    "for line in lines:\n",
    "    elems = line.split(\" \")\n",
    "    line_lst_int = [int(e) for e in elems]\n",
    "    mat.append(line_lst_int)\n",
    "\n",
    "maximum = 0\n",
    "count = 0\n",
    "rows = [a for a in range(15)]\n",
    "\n",
    "for i in range(500):\n",
    "    random.shuffle(rows)\n",
    "    while True:\n",
    "        old = rows.copy()\n",
    "        for first in np.arange(15):\n",
    "            max_save = (0, 0, 0)\n",
    "            for second in np.arange(15):\n",
    "                if first != second:\n",
    "                    initial = mat[first][rows[first]] + mat[second][rows[second]]\n",
    "                    new = mat[first][rows[second]] + mat[second][rows[first]]\n",
    "                    if new - initial > max_save[0]:\n",
    "                        new_save = new - initial\n",
    "                        max_save = (new_save, first, second)\n",
    "            if max_save == (0, 0, 0):\n",
    "                pass\n",
    "            else:\n",
    "                rows[max_save[1]], rows[max_save[2]] = (\n",
    "                    rows[max_save[2]],\n",
    "                    rows[max_save[1]],\n",
    "                )\n",
    "        if rows == old:\n",
    "            break\n",
    "    final_sum = sum([mat[i][j] for i, j in enumerate(rows)])\n",
    "    if final_sum > maximum:\n",
    "        maximum = final_sum\n",
    "        print(final_sum, rows)"
   ]
  },
  {
   "cell_type": "code",
   "execution_count": null,
   "metadata": {},
   "outputs": [],
   "source": []
  }
 ],
 "metadata": {
  "kernelspec": {
   "display_name": "Python 3",
   "language": "python",
   "name": "python3"
  },
  "language_info": {
   "codemirror_mode": {
    "name": "ipython",
    "version": 3
   },
   "file_extension": ".py",
   "mimetype": "text/x-python",
   "name": "python",
   "nbconvert_exporter": "python",
   "pygments_lexer": "ipython3",
   "version": "3.11.1"
  },
  "orig_nbformat": 4,
  "vscode": {
   "interpreter": {
    "hash": "738da42b23c692d1c0a83c92c7da0fdf56c5882ea3bab9da5bfc0d2488af50c1"
   }
  }
 },
 "nbformat": 4,
 "nbformat_minor": 2
}
