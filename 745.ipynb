{
 "cells": [
  {
   "cell_type": "code",
   "execution_count": 57,
   "metadata": {},
   "outputs": [
    {
     "name": "stdout",
     "output_type": "stream",
     "text": [
      "dict_items([])\n",
      "dict_items([])\n",
      "dict_items([(2, 1)])\n",
      "dict_items([(2, 2), (3, 1)])\n",
      "dict_items([(2, 4), (3, 2)])\n",
      "dict_items([(2, 6), (3, 2), (5, 1)])\n",
      "dict_items([(2, 7), (3, 3), (5, 2)])\n",
      "dict_items([(2, 8), (3, 4), (5, 2), (7, 1)])\n",
      "dict_items([(2, 11), (3, 4), (5, 2), (7, 2)])\n",
      "dict_items([(2, 14), (3, 6), (5, 2), (7, 2)])\n",
      "221\n"
     ]
    }
   ],
   "source": [
    "def prime_factor_decomp(n, factors = {}):\n",
    "    for i in range(2, n+1):\n",
    "        if n % i == 0:\n",
    "            if i in factors:\n",
    "                factors[i] += 1\n",
    "            else:\n",
    "                factors[i] = 1\n",
    "            prime_factor_decomp(n//i, factors=factors)  \n",
    "            break\n",
    "    return(factors) \n",
    "\n",
    "def max_square(factors):\n",
    "    for (a, b) in sorted(factors)[::-1]:\n",
    "        if b >= 2:\n",
    "            return a ** 2\n",
    "    return 1\n",
    "\n",
    "\n",
    "sum = 0\n",
    "for i in range(10):\n",
    "    sum += max_square(prime_factor_decomp(i).items())\n",
    "print(sum)"
   ]
  },
  {
   "cell_type": "code",
   "execution_count": 48,
   "metadata": {},
   "outputs": [
    {
     "name": "stdout",
     "output_type": "stream",
     "text": [
      "1\n"
     ]
    }
   ],
   "source": []
  },
  {
   "cell_type": "code",
   "execution_count": 49,
   "metadata": {},
   "outputs": [
    {
     "name": "stdout",
     "output_type": "stream",
     "text": [
      "1003534985700\n"
     ]
    }
   ],
   "source": []
  }
 ],
 "metadata": {
  "kernelspec": {
   "display_name": "Python 3.8.13 ('base')",
   "language": "python",
   "name": "python3"
  },
  "language_info": {
   "codemirror_mode": {
    "name": "ipython",
    "version": 3
   },
   "file_extension": ".py",
   "mimetype": "text/x-python",
   "name": "python",
   "nbconvert_exporter": "python",
   "pygments_lexer": "ipython3",
   "version": "3.8.13"
  },
  "orig_nbformat": 4,
  "vscode": {
   "interpreter": {
    "hash": "fae59a625726de57ea11942daf004c0cff3309baca2ca4d563b6f9a07959135e"
   }
  }
 },
 "nbformat": 4,
 "nbformat_minor": 2
}
