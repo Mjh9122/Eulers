{
 "cells": [
  {
   "cell_type": "code",
   "execution_count": null,
   "metadata": {},
   "outputs": [],
   "source": []
  }
 ],
 "metadata": {
  "kernelspec": {
   "display_name": "Python 3.8.13 ('base')",
   "language": "python",
   "name": "python3"
  },
  "language_info": {
   "name": "python",
   "version": "3.8.13"
  },
  "orig_nbformat": 4,
  "vscode": {
   "interpreter": {
    "hash": "fae59a625726de57ea11942daf004c0cff3309baca2ca4d563b6f9a07959135e"
   }
  }
 },
 "nbformat": 4,
 "nbformat_minor": 2
}
