{
 "cells": [
  {
   "attachments": {},
   "cell_type": "markdown",
   "metadata": {},
   "source": [
    "## Michael Holtz\n",
    "Python Solution for Project Euler Problem #186   \n",
    "All code is mine"
   ]
  },
  {
   "cell_type": "code",
   "execution_count": 3,
   "metadata": {},
   "outputs": [],
   "source": [
    "import networkx as nx"
   ]
  },
  {
   "cell_type": "code",
   "execution_count": 7,
   "metadata": {},
   "outputs": [],
   "source": [
    "g = nx.Graph()\n",
    "s_dict = dict()\n",
    "call_count = 0\n",
    "biggest_comp_size = 1\n",
    "\n",
    "def generate_call(call_num):\n",
    "    k1 = 2 * call_num - 1  \n",
    "    k2 = 2 * call_num\n",
    "    caller = generate_s(k1)\n",
    "    called = generate_s(k2)\n",
    "    return(caller, called)\n",
    "\n",
    "def generate_s(k):\n",
    "    if 1 <= k <= 55:\n",
    "        s = (100003 - 200003*k + 300007*k**3) % 1_000_000\n",
    "        s_dict[k] = s\n",
    "    else:\n",
    "        s = (s_dict[k-24] + s_dict[k-55]) % 1_000_000\n",
    "        s_dict[k] = s\n",
    "        s_dict.pop(k - 55)\n",
    "    return s\n",
    "\n",
    "for call_num in range(1, 2325700):\n",
    "    call = generate_call(call_num)\n",
    "    if call[0] != call[1]:\n",
    "        call_count += 1\n",
    "        g.add_edge(call[0], call[1])\n",
    "    if call_num > 2325625:\n",
    "        component = max(nx.connected_components(g))\n",
    "        if (new_comp := len(component)) >= 990_000:\n",
    "            print(call_count)\n",
    "            break\n"
   ]
  }
 ],
 "metadata": {
  "kernelspec": {
   "display_name": "Python 3",
   "language": "python",
   "name": "python3"
  },
  "language_info": {
   "codemirror_mode": {
    "name": "ipython",
    "version": 3
   },
   "file_extension": ".py",
   "mimetype": "text/x-python",
   "name": "python",
   "nbconvert_exporter": "python",
   "pygments_lexer": "ipython3",
   "version": "3.11.1"
  },
  "orig_nbformat": 4,
  "vscode": {
   "interpreter": {
    "hash": "738da42b23c692d1c0a83c92c7da0fdf56c5882ea3bab9da5bfc0d2488af50c1"
   }
  }
 },
 "nbformat": 4,
 "nbformat_minor": 2
}
