{
 "cells": [
  {
   "cell_type": "code",
   "execution_count": 71,
   "metadata": {},
   "outputs": [],
   "source": [
    "import numpy as np \n",
    "import math\n",
    "\n",
    "import functools"
   ]
  },
  {
   "cell_type": "code",
   "execution_count": 72,
   "metadata": {},
   "outputs": [],
   "source": [
    "balls, classes, samples = 70, 7, 20\n",
    "balls_per_class = balls//classes"
   ]
  },
  {
   "cell_type": "code",
   "execution_count": 73,
   "metadata": {},
   "outputs": [],
   "source": [
    "@functools.cache\n",
    "def p(k, n):\n",
    "    #print(k, n)\n",
    "    if k > n:\n",
    "        return 0\n",
    "    if k == 1 and n == 1:\n",
    "        return 1\n",
    "    elif k == 0:\n",
    "        return 0\n",
    "    prob_old = ((balls_per_class * k) - (n - 1))/(balls - (n - 1))\n",
    "    prob_new = (balls_per_class * (classes - (k - 1)))/(balls - (n - 1))\n",
    "    #print(k, n, prob_old, prob_new)\n",
    "    return p(k, n - 1) * prob_old + p(k - 1, n - 1) * prob_new\n",
    "\n"
   ]
  },
  {
   "cell_type": "code",
   "execution_count": 74,
   "metadata": {},
   "outputs": [
    {
     "data": {
      "text/plain": [
       "6.818741802019762"
      ]
     },
     "execution_count": 74,
     "metadata": {},
     "output_type": "execute_result"
    }
   ],
   "source": [
    "total_exp = 0\n",
    "for end_classes in range(1, classes + 1):\n",
    "    total_exp += end_classes * p(end_classes, samples)\n",
    "\n",
    "total_exp"
   ]
  }
 ],
 "metadata": {
  "kernelspec": {
   "display_name": "euler",
   "language": "python",
   "name": "python3"
  },
  "language_info": {
   "codemirror_mode": {
    "name": "ipython",
    "version": 3
   },
   "file_extension": ".py",
   "mimetype": "text/x-python",
   "name": "python",
   "nbconvert_exporter": "python",
   "pygments_lexer": "ipython3",
   "version": "3.12.9"
  }
 },
 "nbformat": 4,
 "nbformat_minor": 2
}
