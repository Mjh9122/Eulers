{
 "cells": [
  {
   "attachments": {},
   "cell_type": "markdown",
   "metadata": {},
   "source": [
    "## Michael Holtz\n",
    "Python Solution for Project Euler Problem #808  \n",
    "All code is mine  \n",
    "Problem: [link](https://projecteuler.net/problem=808)"
   ]
  },
  {
   "cell_type": "code",
   "execution_count": 24,
   "metadata": {},
   "outputs": [],
   "source": [
    "import math\n",
    "import numpy as np\n",
    "\n",
    "from tqdm import tqdm"
   ]
  },
  {
   "cell_type": "code",
   "execution_count": 25,
   "metadata": {},
   "outputs": [
    {
     "name": "stdout",
     "output_type": "stream",
     "text": [
      "[2, 3, 5, 7, 11, 13, 17, 19, 23, 29, 31, 37, 41, 43, 47, 53, 59, 61, 67, 71, 73, 79, 83, 89, 97, 101, 103, 107, 109, 113, 127, 131, 137, 139, 149, 151, 157, 163, 167, 173, 179, 181, 191, 193, 197, 199, 211, 223, 227, 229, 233, 239, 241, 251, 257, 263, 269, 271, 277, 281, 283, 293, 307, 311, 313, 317, 331, 337, 347, 349, 353, 359, 367, 373, 379, 383, 389, 397, 401, 409, 419, 421, 431, 433, 439, 443, 449, 457, 461, 463, 467, 479, 487, 491, 499, 503, 509, 521, 523, 541]\n"
     ]
    }
   ],
   "source": [
    "with open('../txts/primes/1st-million.txt') as prime_file:\n",
    "    primes = list()\n",
    "    prime_lines = prime_file.readlines()\n",
    "    for pl in prime_lines:\n",
    "        primes.extend([int(p) for p in pl.strip(\"\\n\").split(\" \") if p != ''])\n",
    "    prime_file.close()\n",
    "\n",
    "with open('../txts/primes/2nd-million.txt') as prime_file:\n",
    "    prime_lines = prime_file.readlines()\n",
    "    for pl in prime_lines:\n",
    "        primes.extend([int(p) for p in pl.strip(\"\\n\").split(\" \") if p != ''])\n",
    "    prime_file.close()\n",
    "\n",
    "print(primes[:100])"
   ]
  },
  {
   "cell_type": "code",
   "execution_count": 26,
   "metadata": {},
   "outputs": [
    {
     "name": "stderr",
     "output_type": "stream",
     "text": [
      " 31%|███       | 180072/576371 [00:00<00:00, 668757.82it/s]"
     ]
    },
    {
     "name": "stdout",
     "output_type": "stream",
     "text": [
      "32\n",
      "33\n",
      "34\n",
      "35\n",
      "36\n",
      "37\n",
      "38\n",
      "39\n",
      "40\n",
      "41\n",
      "42\n",
      "43\n",
      "44\n",
      "45\n",
      "46\n",
      "47\n",
      "48\n"
     ]
    },
    {
     "name": "stderr",
     "output_type": "stream",
     "text": [
      " 86%|████████▋ | 498091/576371 [00:00<00:00, 1018566.50it/s]"
     ]
    },
    {
     "name": "stdout",
     "output_type": "stream",
     "text": [
      "49\n",
      "50\n"
     ]
    },
    {
     "name": "stderr",
     "output_type": "stream",
     "text": [
      "\n"
     ]
    }
   ],
   "source": [
    "prime_squares = [p**2 for p in primes if (str(p**2)[0] in (\"1\", \"9\") and str(p**2)[-1] in (\"1\", \"9\"))]\n",
    "prime_sqr_lens = [len(str(p)) for p in prime_squares]\n",
    "revs = [] \n",
    "\n",
    "active_len = 0\n",
    "for p2 in tqdm(prime_squares):\n",
    "    string_prime = str(p2) \n",
    "    if (new_len := len(string_prime)) > active_len:\n",
    "        active_len = new_len\n",
    "        candidates = set([prime_squares[i] for i, j in enumerate(prime_sqr_lens) if j == active_len])\n",
    "    rev = int(string_prime[::-1])\n",
    "    if  rev in candidates and p2 != rev:\n",
    "        revs.append(p2)\n",
    "        if len(revs) >= 32:\n",
    "            print(len(revs))\n",
    "    if len(revs) == 50:\n",
    "        break"
   ]
  },
  {
   "cell_type": "code",
   "execution_count": 28,
   "metadata": {},
   "outputs": [
    {
     "name": "stdout",
     "output_type": "stream",
     "text": [
      "3807504276997394\n"
     ]
    }
   ],
   "source": [
    "print(sum(revs))"
   ]
  }
 ],
 "metadata": {
  "kernelspec": {
   "display_name": "Python 3",
   "language": "python",
   "name": "python3"
  },
  "language_info": {
   "codemirror_mode": {
    "name": "ipython",
    "version": 3
   },
   "file_extension": ".py",
   "mimetype": "text/x-python",
   "name": "python",
   "nbconvert_exporter": "python",
   "pygments_lexer": "ipython3",
   "version": "3.11.1"
  },
  "orig_nbformat": 4
 },
 "nbformat": 4,
 "nbformat_minor": 2
}
