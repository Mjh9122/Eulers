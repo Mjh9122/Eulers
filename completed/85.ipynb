{
 "cells": [
  {
   "attachments": {},
   "cell_type": "markdown",
   "metadata": {},
   "source": [
    "## Michael Holtz\n",
    "Python Solution for Project Euler Problem #85    \n",
    "All code is mine"
   ]
  },
  {
   "cell_type": "code",
   "execution_count": 6,
   "metadata": {},
   "outputs": [
    {
     "name": "stdout",
     "output_type": "stream",
     "text": [
      "2\n",
      "2772\n"
     ]
    }
   ],
   "source": [
    "import numpy\n",
    "import math\n",
    "\n",
    "# Use cobinatorics to find that the rects in a row is a triangular number, then multiply that by the cols' triangle number to get the total\n",
    "def num_rects(x:int, y:int):    \n",
    "    return x * (x + 1) * y * (y + 1)//4\n",
    "\n",
    "# Iterate through some rects to find a minimum\n",
    "min = 2_000_000\n",
    "for i in range(100):\n",
    "    for j in range(100):\n",
    "        if (dist := abs(num_rects(i, j) - 2_000_000)) < min:\n",
    "            min = dist\n",
    "            num = i * j\n",
    "print(min)\n",
    "print(num)"
   ]
  },
  {
   "cell_type": "code",
   "execution_count": null,
   "metadata": {},
   "outputs": [],
   "source": []
  }
 ],
 "metadata": {
  "kernelspec": {
   "display_name": "Python 3",
   "language": "python",
   "name": "python3"
  },
  "language_info": {
   "codemirror_mode": {
    "name": "ipython",
    "version": 3
   },
   "file_extension": ".py",
   "mimetype": "text/x-python",
   "name": "python",
   "nbconvert_exporter": "python",
   "pygments_lexer": "ipython3",
   "version": "3.11.1 (tags/v3.11.1:a7a450f, Dec  6 2022, 19:58:39) [MSC v.1934 64 bit (AMD64)]"
  },
  "orig_nbformat": 4,
  "vscode": {
   "interpreter": {
    "hash": "738da42b23c692d1c0a83c92c7da0fdf56c5882ea3bab9da5bfc0d2488af50c1"
   }
  }
 },
 "nbformat": 4,
 "nbformat_minor": 2
}
