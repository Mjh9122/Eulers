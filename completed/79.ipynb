{
 "cells": [
  {
   "attachments": {},
   "cell_type": "markdown",
   "metadata": {},
   "source": [
    "## Michael Holtz\n",
    "Python Solution for Project Euler Problem #79   \n",
    "All code is mine"
   ]
  },
  {
   "cell_type": "code",
   "execution_count": 13,
   "metadata": {},
   "outputs": [
    {
     "name": "stdout",
     "output_type": "stream",
     "text": [
      "['319', '680', '180', '690', '129', '620', '762', '689', '762', '318', '368', '710', '720', '710', '629', '168', '160', '689', '716', '731', '736', '729', '316', '729', '729', '710', '769', '290', '719', '680', '318', '389', '162', '289', '162', '718', '729', '319', '790', '680', '890', '362', '319', '760', '316', '729', '380', '319', '728', '716']\n",
      "('7', '3', '1', '6', '2', '8', '9', '0')\n"
     ]
    }
   ],
   "source": [
    "import itertools\n",
    "\n",
    "with open('keylogs.txt')as logs:\n",
    "    keys = logs.read().splitlines()\n",
    "\n",
    "\n",
    "def check_valid(str_num):\n",
    "    for key in keys:\n",
    "        a = key[0]\n",
    "        b = key[1]\n",
    "        c = key[2]\n",
    "        if not (str_num.index(a) < str_num.index(b) < str_num.index(c)):\n",
    "            return False\n",
    "    return True\n",
    "\n",
    "possibles = itertools.permutations('31968072')\n",
    "\n",
    "for p in possibles:\n",
    "    if check_valid(p):\n",
    "        print(p)"
   ]
  },
  {
   "cell_type": "code",
   "execution_count": null,
   "metadata": {},
   "outputs": [],
   "source": []
  }
 ],
 "metadata": {
  "kernelspec": {
   "display_name": "Python 3",
   "language": "python",
   "name": "python3"
  },
  "language_info": {
   "codemirror_mode": {
    "name": "ipython",
    "version": 3
   },
   "file_extension": ".py",
   "mimetype": "text/x-python",
   "name": "python",
   "nbconvert_exporter": "python",
   "pygments_lexer": "ipython3",
   "version": "3.11.1 (tags/v3.11.1:a7a450f, Dec  6 2022, 19:58:39) [MSC v.1934 64 bit (AMD64)]"
  },
  "orig_nbformat": 4,
  "vscode": {
   "interpreter": {
    "hash": "738da42b23c692d1c0a83c92c7da0fdf56c5882ea3bab9da5bfc0d2488af50c1"
   }
  }
 },
 "nbformat": 4,
 "nbformat_minor": 2
}
