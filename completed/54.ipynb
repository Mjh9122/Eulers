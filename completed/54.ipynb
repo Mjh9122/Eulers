{
 "cells": [
  {
   "cell_type": "code",
   "execution_count": 10,
   "metadata": {},
   "outputs": [],
   "source": [
    "from pokereval import card, hand_evaluator\n",
    "\n",
    "with open('../txts/poker.txt') as poker_file:\n",
    "    hands = poker_file.read().split('\\n')\n",
    "    for h in hands:\n",
    "        h1 = []\n",
    "        h2 = []\n",
    "        h = h.split(' ')\n",
    "        for c in h:\n",
    "            rank = c[0]\n",
    "            if rank == 'A':\n",
    "                rank = 14\n",
    "            if rank == 'T':\n",
    "                rank = 10\n",
    "            if rank == 'J':\n",
    "                rank = 11\n",
    "            if rank == 'Q':\n",
    "                rank = 12\n",
    "            if rank == 'K':\n",
    "                rank = 13\n",
    "            rank = int(rank)\n",
    "            suit = c[1]\n",
    "            if suit == 's':\n",
    "                suit = 1\n",
    "            elif suit == 'h':\n",
    "                suit = 2\n",
    "            elif suit == 'd':\n",
    "                suit = 3\n",
    "            else:\n",
    "                suit = 4\n",
    "            c = card\n",
    "        \n",
    "\n"
   ]
  }
 ],
 "metadata": {
  "kernelspec": {
   "display_name": "Python 3",
   "language": "python",
   "name": "python3"
  },
  "language_info": {
   "codemirror_mode": {
    "name": "ipython",
    "version": 3
   },
   "file_extension": ".py",
   "mimetype": "text/x-python",
   "name": "python",
   "nbconvert_exporter": "python",
   "pygments_lexer": "ipython3",
   "version": "3.11.1"
  },
  "orig_nbformat": 4
 },
 "nbformat": 4,
 "nbformat_minor": 2
}
