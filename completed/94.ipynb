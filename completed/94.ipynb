{
 "cells": [
  {
   "cell_type": "code",
   "execution_count": 35,
   "metadata": {},
   "outputs": [],
   "source": [
    "import numpy as np\n",
    "\n",
    "from tqdm import tqdm\n",
    "\n",
    "import math"
   ]
  },
  {
   "cell_type": "code",
   "execution_count": null,
   "metadata": {},
   "outputs": [],
   "source": [
    "def is_perfect_square(n):\n",
    "    root = round(np.sqrt(n))\n",
    "    return root ** 2 == n"
   ]
  },
  {
   "cell_type": "code",
   "execution_count": 37,
   "metadata": {},
   "outputs": [
    {
     "name": "stdout",
     "output_type": "stream",
     "text": [
      "Found triangle: (5, 5, 6)\n",
      "Found triangle: (17, 17, 16)\n",
      "Found triangle: (65, 65, 66)\n",
      "Found triangle: (241, 241, 240)\n",
      "Found triangle: (901, 901, 902)\n",
      "Found triangle: (3361, 3361, 3360)\n",
      "Found triangle: (12545, 12545, 12546)\n",
      "Found triangle: (46817, 46817, 46816)\n",
      "Found triangle: (31453837, 31453837, 31453838)\n",
      "Found triangle: (87153252, 87153252, 87153253)\n",
      "Found triangle: (105879400, 105879400, 105879401)\n",
      "Found triangle: (174306505, 174306505, 174306504)\n",
      "Found triangle: (241649988, 241649988, 241649989)\n"
     ]
    }
   ],
   "source": [
    "triangles = []\n",
    "\n",
    "a = 2\n",
    "while 3 * a - 1 < 1_000_000_000:\n",
    "    for b in [a - 1, a + 1]:\n",
    "        if b <= 0:\n",
    "            continue\n",
    "        \n",
    "        s = (2 * a + b) / 2\n",
    "        area_squared = s * (s - a) * (s - a) * (s - b)\n",
    "        \n",
    "        if area_squared > 0 and is_perfect_square(area_squared):\n",
    "            triangles.append((a, a, b))\n",
    "            print(f\"Found triangle: ({a}, {a}, {b})\")\n",
    "    \n",
    "    a += 1"
   ]
  },
  {
   "cell_type": "code",
   "execution_count": 41,
   "metadata": {},
   "outputs": [
    {
     "data": {
      "text/plain": [
       "1921520805"
      ]
     },
     "execution_count": 41,
     "metadata": {},
     "output_type": "execute_result"
    }
   ],
   "source": [
    "total = 0\n",
    "for tri in triangles:\n",
    "    total += sum(tri)\n",
    "\n",
    "total"
   ]
  },
  {
   "cell_type": "code",
   "execution_count": 38,
   "metadata": {},
   "outputs": [
    {
     "data": {
      "text/plain": [
       "435128553"
      ]
     },
     "execution_count": 38,
     "metadata": {},
     "output_type": "execute_result"
    }
   ],
   "source": [
    "total\n",
    "#312531166656652890\n",
    "# 312531167656365780\n",
    "# 312531166656365779\n",
    "# 1921520809\n",
    "# 518408350\n",
    "# 138907100"
   ]
  },
  {
   "cell_type": "code",
   "execution_count": 39,
   "metadata": {},
   "outputs": [],
   "source": [
    "a, b = 333_333_333, 333_333_334\n",
    "\n",
    "s = (2 * a + b) / 2\n",
    "\n",
    "k2 =  s * (s - a) * (s - a) * (s - b)"
   ]
  },
  {
   "cell_type": "code",
   "execution_count": 40,
   "metadata": {},
   "outputs": [
    {
     "data": {
      "text/plain": [
       "2.3148148148148148e+33"
      ]
     },
     "execution_count": 40,
     "metadata": {},
     "output_type": "execute_result"
    }
   ],
   "source": [
    "k2"
   ]
  }
 ],
 "metadata": {
  "kernelspec": {
   "display_name": "euler",
   "language": "python",
   "name": "python3"
  },
  "language_info": {
   "codemirror_mode": {
    "name": "ipython",
    "version": 3
   },
   "file_extension": ".py",
   "mimetype": "text/x-python",
   "name": "python",
   "nbconvert_exporter": "python",
   "pygments_lexer": "ipython3",
   "version": "3.12.9"
  }
 },
 "nbformat": 4,
 "nbformat_minor": 2
}
