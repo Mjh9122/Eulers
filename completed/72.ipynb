{
 "cells": [
  {
   "cell_type": "code",
   "execution_count": 3,
   "metadata": {},
   "outputs": [],
   "source": [
    "# Solution to problem 72\n",
    "import math\n",
    "import numpy as np\n",
    "import primefac.primefac as pf"
   ]
  },
  {
   "cell_type": "code",
   "execution_count": 4,
   "metadata": {},
   "outputs": [],
   "source": [
    "max = 1_000_000"
   ]
  },
  {
   "cell_type": "code",
   "execution_count": 5,
   "metadata": {},
   "outputs": [],
   "source": [
    "with open('../txts/primes.txt', mode='r') as prime_file:\n",
    "    all_primes = prime_file.readlines()\n",
    "    str_primes = all_primes[0].split(' ')\n",
    "    primes = list()\n",
    "    for prime in str_primes:\n",
    "        if int(prime) > max:\n",
    "            break\n",
    "        else:\n",
    "            primes.append(int(prime))"
   ]
  },
  {
   "cell_type": "code",
   "execution_count": 12,
   "metadata": {},
   "outputs": [
    {
     "name": "stdout",
     "output_type": "stream",
     "text": [
      "303963552391\n"
     ]
    }
   ],
   "source": [
    "def phi(n):\n",
    "    result = n\n",
    "    for p in primes:\n",
    "        if p ** 2 <= n:\n",
    "            if not n % p:\n",
    "                while not n % p:\n",
    "                    n //= p\n",
    "                result -= result // p\n",
    "        else:\n",
    "            break\n",
    "    if n > 1:\n",
    "        result -= result//n\n",
    "    return result\n",
    "\n",
    "\n",
    "\n",
    "sum = 0\n",
    "for n in range(2, 1_000_001) :\n",
    "    sum  += phi(n)\n",
    "print(sum)"
   ]
  }
 ],
 "metadata": {
  "kernelspec": {
   "display_name": "Python 3",
   "language": "python",
   "name": "python3"
  },
  "language_info": {
   "codemirror_mode": {
    "name": "ipython",
    "version": 3
   },
   "file_extension": ".py",
   "mimetype": "text/x-python",
   "name": "python",
   "nbconvert_exporter": "python",
   "pygments_lexer": "ipython3",
   "version": "3.11.1 (tags/v3.11.1:a7a450f, Dec  6 2022, 19:58:39) [MSC v.1934 64 bit (AMD64)]"
  },
  "orig_nbformat": 4,
  "vscode": {
   "interpreter": {
    "hash": "738da42b23c692d1c0a83c92c7da0fdf56c5882ea3bab9da5bfc0d2488af50c1"
   }
  }
 },
 "nbformat": 4,
 "nbformat_minor": 2
}
