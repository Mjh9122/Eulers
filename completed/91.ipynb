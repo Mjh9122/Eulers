{
 "cells": [
  {
   "attachments": {},
   "cell_type": "markdown",
   "metadata": {},
   "source": [
    "## Michael Holtz\n",
    "Python Solution for Project Euler Problem #91  \n",
    "All code is mine"
   ]
  },
  {
   "cell_type": "code",
   "execution_count": 1,
   "metadata": {},
   "outputs": [
    {
     "name": "stdout",
     "output_type": "stream",
     "text": [
      "14234.0\n"
     ]
    }
   ],
   "source": [
    "# utilizes pythagorean theorem to quickly count the number of right triangles with vertices, (0, 0), (x1, y1), (x2, y2) where x1, y1, x2, y2 are integers\n",
    "# less than or equal to max\n",
    "# Euler question 91\n",
    "\n",
    "import numpy as np\n",
    "\n",
    "count = 0\n",
    "max = 50\n",
    "for x1 in np.arange(0, max + 1):\n",
    "    for y1 in np.arange(0, max + 1):\n",
    "        for x2 in np.arange(0, max + 1):\n",
    "            for y2 in np.arange(0, max + 1):\n",
    "                if not x1 == y1 == 0 and not x2 == y2 == 0:\n",
    "                    if x1 != x2 or y1 != y2:\n",
    "                        len1 = x1**2 + y1**2\n",
    "                        len2 = x2**2 + y2**2\n",
    "                        len3 = (x1 - x2) ** 2 + (y1 - y2) ** 2\n",
    "                        if not (len1 + len2 - len3):\n",
    "                            count += 1\n",
    "                        elif not (len1 + len3 - len2):\n",
    "                            count += 1\n",
    "                        elif not (len2 + len3 - len1):\n",
    "                            count += 1\n",
    "\n",
    "print(count / 2)"
   ]
  }
 ],
 "metadata": {
  "kernelspec": {
   "display_name": "Python 3.8.13 ('base')",
   "language": "python",
   "name": "python3"
  },
  "language_info": {
   "codemirror_mode": {
    "name": "ipython",
    "version": 3
   },
   "file_extension": ".py",
   "mimetype": "text/x-python",
   "name": "python",
   "nbconvert_exporter": "python",
   "pygments_lexer": "ipython3",
   "version": "3.11.1"
  },
  "orig_nbformat": 4,
  "vscode": {
   "interpreter": {
    "hash": "fae59a625726de57ea11942daf004c0cff3309baca2ca4d563b6f9a07959135e"
   }
  }
 },
 "nbformat": 4,
 "nbformat_minor": 2
}
