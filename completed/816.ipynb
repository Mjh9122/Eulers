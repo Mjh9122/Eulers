{
 "cells": [
  {
   "attachments": {},
   "cell_type": "markdown",
   "metadata": {},
   "source": [
    "## Michael Holtz\n",
    "Python Solution for Project Euler Problem #816  \n",
    "All code is mine  \n",
    "Problem: [link](https://projecteuler.net/problem=816)"
   ]
  },
  {
   "attachments": {},
   "cell_type": "markdown",
   "metadata": {},
   "source": [
    "This problem essentially boils down to finding the closest two points out of 2,000,000 randomly distributed points. The number of possible distances to check is then $\\frac{n^2-n}{2}$ which is way to large to effectively search. Instead I sort the points in accending order of their x position. Next I begin finding shortest distances. The big optimization step is that as soon as the gap on the x axis between the points, a, b, we are checking gets larger than our minimum distance, we can throw out the rest of the points to check with a, since each succesive point will be further along the x axis. Thus assuming the points are roughly uniformly distributed along the x axis from 1 - 50,515,093, we cut the search space for each point from an average of 1,000,000 to an average of 4, since we almost instantly find a distance of less than 250. "
   ]
  },
  {
   "cell_type": "code",
   "execution_count": 1,
   "metadata": {},
   "outputs": [],
   "source": [
    "# Imports\n",
    "import math\n",
    "import numpy as np"
   ]
  },
  {
   "cell_type": "code",
   "execution_count": 2,
   "metadata": {},
   "outputs": [],
   "source": [
    "# Function to generate the points as defined in the problem\n",
    "def p_series(n):\n",
    "    s_0 = 290_797\n",
    "    ss = [s_0]\n",
    "    for i in np.arange(2*n-1):\n",
    "        ss.append((ss[-1]**2)%50_515_093)\n",
    "    p = [(ss[i], ss[i+1]) for i in range(0, 2*n, 2)]\n",
    "    return p"
   ]
  },
  {
   "cell_type": "code",
   "execution_count": 3,
   "metadata": {},
   "outputs": [],
   "source": [
    "# Generate our points and sort them\n",
    "p = p_series(2_000_000)\n",
    "sp = sorted(p, key=lambda x: x[0]) "
   ]
  },
  {
   "cell_type": "code",
   "execution_count": 4,
   "metadata": {},
   "outputs": [
    {
     "name": "stdout",
     "output_type": "stream",
     "text": [
      "Current min 55000000, 0.0% finished\n",
      "403.20962290104137\n",
      "245.05101509685693\n",
      "Current min 245.05101509685693, 0.1% finished\n",
      "Current min 245.05101509685693, 0.2% finished\n",
      "Current min 245.05101509685693, 0.3% finished\n",
      "Current min 245.05101509685693, 0.4% finished\n",
      "Current min 245.05101509685693, 0.5% finished\n",
      "Current min 245.05101509685693, 0.6% finished\n",
      "Current min 245.05101509685693, 0.7% finished\n",
      "Current min 245.05101509685693, 0.8% finished\n"
     ]
    },
    {
     "ename": "KeyboardInterrupt",
     "evalue": "",
     "output_type": "error",
     "traceback": [
      "\u001b[1;31m---------------------------------------------------------------------------\u001b[0m",
      "\u001b[1;31mKeyboardInterrupt\u001b[0m                         Traceback (most recent call last)",
      "Cell \u001b[1;32mIn[4], line 6\u001b[0m\n\u001b[0;32m      4\u001b[0m \u001b[39mif\u001b[39;00m \u001b[39mnot\u001b[39;00m a \u001b[39m%\u001b[39m \u001b[39m2_000\u001b[39m:\n\u001b[0;32m      5\u001b[0m     \u001b[39mprint\u001b[39m(\u001b[39mf\u001b[39m\u001b[39m\"\u001b[39m\u001b[39mCurrent min \u001b[39m\u001b[39m{\u001b[39;00m\u001b[39mmin\u001b[39m\u001b[39m}\u001b[39;00m\u001b[39m, \u001b[39m\u001b[39m{\u001b[39;00m\u001b[39m100\u001b[39m\u001b[39m*\u001b[39ma\u001b[39m/\u001b[39m\u001b[39m2_000_000\u001b[39m\u001b[39m}\u001b[39;00m\u001b[39m% finished\u001b[39m\u001b[39m\"\u001b[39m)\n\u001b[1;32m----> 6\u001b[0m \u001b[39mfor\u001b[39;00m b, k \u001b[39min\u001b[39;00m \u001b[39menumerate\u001b[39m(sp[a\u001b[39m+\u001b[39m\u001b[39m1\u001b[39m:]):\n\u001b[0;32m      7\u001b[0m     \u001b[39mif\u001b[39;00m \u001b[39mabs\u001b[39m(i[\u001b[39m0\u001b[39m]\u001b[39m-\u001b[39mk[\u001b[39m0\u001b[39m]) \u001b[39m>\u001b[39m \u001b[39mmin\u001b[39m:\n\u001b[0;32m      8\u001b[0m         \u001b[39mbreak\u001b[39;00m\n",
      "\u001b[1;31mKeyboardInterrupt\u001b[0m: "
     ]
    }
   ],
   "source": [
    "#Iterate over the points, keeping track of the minimum distance, and breaking the inner loop whenever the gap in x from our current outer loop point to the inner point gets too large. \n",
    "min = 55000000\n",
    "for a, i in enumerate(sp):\n",
    "    if not a % 2_000:\n",
    "        print(f\"Current min {min}, {100*a/2_000_000}% finished\")\n",
    "    for b, k in enumerate(sp[a+1:]):\n",
    "        if abs(i[0]-k[0]) > min:\n",
    "            break\n",
    "        if (dist := np.linalg.norm((i[0]-k[0], i[1]-k[1]))) < min:\n",
    "            min = dist\n",
    "            print(min)"
   ]
  }
 ],
 "metadata": {
  "kernelspec": {
   "display_name": "Python 3",
   "language": "python",
   "name": "python3"
  },
  "language_info": {
   "codemirror_mode": {
    "name": "ipython",
    "version": 3
   },
   "file_extension": ".py",
   "mimetype": "text/x-python",
   "name": "python",
   "nbconvert_exporter": "python",
   "pygments_lexer": "ipython3",
   "version": "3.11.1"
  },
  "orig_nbformat": 4,
  "vscode": {
   "interpreter": {
    "hash": "738da42b23c692d1c0a83c92c7da0fdf56c5882ea3bab9da5bfc0d2488af50c1"
   }
  }
 },
 "nbformat": 4,
 "nbformat_minor": 2
}
