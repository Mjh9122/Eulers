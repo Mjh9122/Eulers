{
 "cells": [
  {
   "cell_type": "code",
   "execution_count": 22,
   "metadata": {},
   "outputs": [
    {
     "data": {
      "text/plain": [
       "[15485837, 15485843, 15485849, 15485857, 15485863]"
      ]
     },
     "execution_count": 22,
     "metadata": {},
     "output_type": "execute_result"
    }
   ],
   "source": [
    "with open(\"../txts/primes/1st-million.txt\") as f:\n",
    "    primes = list()\n",
    "    lines = f.readlines()\n",
    "    for l in lines:\n",
    "        l = l.strip()\n",
    "        l = l.split(\" \")\n",
    "        nums = [int(i) for i in l if i != '']\n",
    "        primes.extend(nums)\n",
    "primes[-5:]"
   ]
  },
  {
   "cell_type": "code",
   "execution_count": 23,
   "metadata": {},
   "outputs": [],
   "source": [
    "def count_lows(num):\n",
    "    zeros, ones, twos = 0, 0, 0\n",
    "    s = str(num)\n",
    "    for char in s:\n",
    "        if char == '0':\n",
    "            zeros += 1\n",
    "        elif char == '1':\n",
    "            ones += 1\n",
    "        elif char == '2':\n",
    "            twos += 1\n",
    "    return zeros, ones, twos"
   ]
  },
  {
   "cell_type": "code",
   "execution_count": 24,
   "metadata": {},
   "outputs": [
    {
     "name": "stdout",
     "output_type": "stream",
     "text": [
      "[121313, 222323, 323333, 424343, 525353, 626363, 828383, 929393]\n",
      "[5181019, 5282029, 5383039, 5484049, 5585059, 5787079, 5888089, 5989099]\n"
     ]
    }
   ],
   "source": [
    "for n in range(10):\n",
    "    active_list = [i for i in primes if (i > 10 **(n-1) and i < 10 ** n)]\n",
    "    active_set = set(active_list)\n",
    "    for i, num in enumerate(active_list):\n",
    "        zeros, ones, twos = count_lows(num)\n",
    "        if zeros >= 2:\n",
    "            similar = list()\n",
    "            indices = [i for i, c in enumerate(str(num)[::-1]) if c == '0']\n",
    "            summant = sum([10 ** x for x in indices])\n",
    "            for j in range(9):\n",
    "                if (n := num + j * summant) in active_set:\n",
    "                    similar.append(n)\n",
    "            if len(similar) > 7:\n",
    "                print(similar)\n",
    "        if ones >= 2:\n",
    "            similar = list()\n",
    "            indices = [i for i, c in enumerate(str(num)[::-1]) if c == '1']\n",
    "            summant = sum([10 ** x for x in indices])\n",
    "            for j in range(9):\n",
    "                if (n := num + j * summant) in active_set:\n",
    "                    similar.append(n)\n",
    "            if len(similar) > 7:\n",
    "                print(similar)\n",
    "            \n"
   ]
  }
 ],
 "metadata": {
  "kernelspec": {
   "display_name": "Python 3",
   "language": "python",
   "name": "python3"
  },
  "language_info": {
   "codemirror_mode": {
    "name": "ipython",
    "version": 3
   },
   "file_extension": ".py",
   "mimetype": "text/x-python",
   "name": "python",
   "nbconvert_exporter": "python",
   "pygments_lexer": "ipython3",
   "version": "3.11.1"
  },
  "orig_nbformat": 4
 },
 "nbformat": 4,
 "nbformat_minor": 2
}
