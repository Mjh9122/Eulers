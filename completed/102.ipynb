{
 "cells": [
  {
   "attachments": {},
   "cell_type": "markdown",
   "metadata": {},
   "source": [
    "## Michael Holtz\n",
    "Python Solution for Project Euler Problem #102, triangle containment  \n",
    "All code is mine"
   ]
  },
  {
   "cell_type": "code",
   "execution_count": 12,
   "metadata": {},
   "outputs": [],
   "source": [
    "import numpy as np\n",
    "import math"
   ]
  },
  {
   "cell_type": "code",
   "execution_count": 30,
   "metadata": {},
   "outputs": [],
   "source": [
    "class Triangle():\n",
    "    def __init__(self, x1, y1, x2, y2, x3, y3):\n",
    "        self.x1 = x1\n",
    "        self.x2 = x2\n",
    "        self.x3 = x3\n",
    "        self.y1 = y1\n",
    "        self.y2 = y2\n",
    "        self.y3 = y3\n",
    "\n",
    "    def contains_origen(self):\n",
    "        mat = np.array([[self.x2-self.x1, self.x3-self.x1], [self.y2-self.y1, self.y3-self.y1]])\n",
    "        b = np.array([-self.x1, -self.y1])\n",
    "        sol = np.linalg.solve(mat, b)\n",
    "        return (0 <= sol[0] <=1 and 0 <= sol[1] <= 1 and sol[0] + sol[1] <= 1)"
   ]
  },
  {
   "cell_type": "code",
   "execution_count": 31,
   "metadata": {},
   "outputs": [
    {
     "name": "stdout",
     "output_type": "stream",
     "text": [
      "228\n"
     ]
    }
   ],
   "source": [
    "tris = list()\n",
    "with open('../txts/p102_triangles.txt') as tri_file:\n",
    "    tri_lines = tri_file.readlines()\n",
    "    for t in tri_lines:\n",
    "        t = t.strip('\\n')\n",
    "        t_list = t.split(',')\n",
    "        t = [int(i) for i in t_list]\n",
    "        tris.append(Triangle(t[0], t[1], t[2], t[3], t[4], t[5]))\n",
    "\n",
    "count = 0\n",
    "for t in tris:\n",
    "    if t.contains_origen():\n",
    "        count += 1\n",
    "print(count)"
   ]
  }
 ],
 "metadata": {
  "kernelspec": {
   "display_name": "Python 3",
   "language": "python",
   "name": "python3"
  },
  "language_info": {
   "codemirror_mode": {
    "name": "ipython",
    "version": 3
   },
   "file_extension": ".py",
   "mimetype": "text/x-python",
   "name": "python",
   "nbconvert_exporter": "python",
   "pygments_lexer": "ipython3",
   "version": "3.11.1 (tags/v3.11.1:a7a450f, Dec  6 2022, 19:58:39) [MSC v.1934 64 bit (AMD64)]"
  },
  "orig_nbformat": 4,
  "vscode": {
   "interpreter": {
    "hash": "738da42b23c692d1c0a83c92c7da0fdf56c5882ea3bab9da5bfc0d2488af50c1"
   }
  }
 },
 "nbformat": 4,
 "nbformat_minor": 2
}
