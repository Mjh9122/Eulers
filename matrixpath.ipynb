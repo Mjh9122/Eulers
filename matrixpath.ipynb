{
 "cells": [
  {
   "cell_type": "code",
   "execution_count": 3,
   "metadata": {},
   "outputs": [
    {
     "name": "stdout",
     "output_type": "stream",
     "text": [
      "[[4445 2697 5115 ... 2758 3748 5870]\n",
      " [1096   20 1318 ... 4187 9353 9377]\n",
      " [9607 7385  521 ... 9515 6385 9230]\n",
      " ...\n",
      " [2265 8192 1763 ... 7456 5128 5294]\n",
      " [2132 8992 8160 ... 5634 1113 5789]\n",
      " [5304 5499  564 ... 2751 3406 7981]]\n",
      "425185\n"
     ]
    }
   ],
   "source": [
    "# Solution to several Eulers, with modification of edges. All based on traversal of a matrix\n",
    "import networkx as nx\n",
    "import numpy as np\n",
    "import matplotlib.pyplot as plt\n",
    "\n",
    "m = open('matrix.txt')\n",
    "matrix = m.readlines()\n",
    "m = [[int(a) for a in line.replace('\\n', '').split(',')] for line in matrix]\n",
    "m = np.array(m)\n",
    "\n",
    "graph = nx.DiGraph()\n",
    "for row in range(80):\n",
    "    for col in range(80):\n",
    "        graph.add_node((row, col), set=row)\n",
    "for (row, col) in graph.nodes():\n",
    "    if (row+1, col) in graph.nodes():\n",
    "        graph.add_edge((row, col), (row+1, col), weight=m[row+1][col])\n",
    "    if (row-1, col) in graph.nodes():\n",
    "        graph.add_edge((row, col), (row-1, col), weight=m[row-1][col])\n",
    "    if (row, col+1) in graph.nodes():\n",
    "        graph.add_edge((row, col), (row, col+1), weight=m[row][col+1])\n",
    "    if (row, col-1) in graph.nodes():\n",
    "        graph.add_edge((row, col), (row, col-1), weight=m[row][col-1])\n",
    "path_len = nx.shortest_path_length(graph, (0, 0), (79, 79), weight='weight')\n",
    "print(path_len+m[0][0])\n"
   ]
  }
 ],
 "metadata": {
  "kernelspec": {
   "display_name": "Python 3",
   "language": "python",
   "name": "python3"
  },
  "language_info": {
   "codemirror_mode": {
    "name": "ipython",
    "version": 3
   },
   "file_extension": ".py",
   "mimetype": "text/x-python",
   "name": "python",
   "nbconvert_exporter": "python",
   "pygments_lexer": "ipython3",
   "version": "3.11.1 (tags/v3.11.1:a7a450f, Dec  6 2022, 19:58:39) [MSC v.1934 64 bit (AMD64)]"
  },
  "orig_nbformat": 4,
  "vscode": {
   "interpreter": {
    "hash": "738da42b23c692d1c0a83c92c7da0fdf56c5882ea3bab9da5bfc0d2488af50c1"
   }
  }
 },
 "nbformat": 4,
 "nbformat_minor": 2
}
